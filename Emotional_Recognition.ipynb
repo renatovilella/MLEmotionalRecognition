{
 "cells": [
  {
   "cell_type": "markdown",
   "metadata": {},
   "source": [
    "# Import Needed Modules"
   ]
  },
  {
   "cell_type": "markdown",
   "metadata": {},
   "source": [
    "###### Using Emotional Dataset from Kaggle: https://www.kaggle.com/datasets/abdallahwagih/emotion-dataset\n",
    "###### Using the code basis from https://www.kaggle.com/code/abdallahwagih/nlp-pipeline-tutorial\n",
    "\n",
    "## With this model you will be able to classify 3 types of emotion from a phrase. \n",
    "## This model contains a terminal user interface"
   ]
  },
  {
   "cell_type": "code",
   "execution_count": 3,
   "metadata": {},
   "outputs": [
    {
     "name": "stdout",
     "output_type": "stream",
     "text": [
      "Requirement already satisfied: spacy in d:\\mlenv\\lib\\site-packages (3.6.1)\n",
      "Requirement already satisfied: spacy-legacy<3.1.0,>=3.0.11 in d:\\mlenv\\lib\\site-packages (from spacy) (3.0.12)\n",
      "Requirement already satisfied: spacy-loggers<2.0.0,>=1.0.0 in d:\\mlenv\\lib\\site-packages (from spacy) (1.0.5)\n",
      "Requirement already satisfied: murmurhash<1.1.0,>=0.28.0 in d:\\mlenv\\lib\\site-packages (from spacy) (1.0.10)\n",
      "Requirement already satisfied: cymem<2.1.0,>=2.0.2 in d:\\mlenv\\lib\\site-packages (from spacy) (2.0.8)\n",
      "Requirement already satisfied: preshed<3.1.0,>=3.0.2 in d:\\mlenv\\lib\\site-packages (from spacy) (3.0.9)\n",
      "Requirement already satisfied: thinc<8.2.0,>=8.1.8 in d:\\mlenv\\lib\\site-packages (from spacy) (8.1.12)\n",
      "Requirement already satisfied: wasabi<1.2.0,>=0.9.1 in d:\\mlenv\\lib\\site-packages (from spacy) (1.1.2)\n",
      "Requirement already satisfied: srsly<3.0.0,>=2.4.3 in d:\\mlenv\\lib\\site-packages (from spacy) (2.4.8)\n",
      "Requirement already satisfied: catalogue<2.1.0,>=2.0.6 in d:\\mlenv\\lib\\site-packages (from spacy) (2.0.10)\n",
      "Requirement already satisfied: typer<0.10.0,>=0.3.0 in d:\\mlenv\\lib\\site-packages (from spacy) (0.9.0)\n",
      "Requirement already satisfied: pathy>=0.10.0 in d:\\mlenv\\lib\\site-packages (from spacy) (0.10.2)\n",
      "Requirement already satisfied: smart-open<7.0.0,>=5.2.1 in d:\\mlenv\\lib\\site-packages (from spacy) (5.2.1)\n",
      "Requirement already satisfied: tqdm<5.0.0,>=4.38.0 in d:\\mlenv\\lib\\site-packages (from spacy) (4.66.1)\n",
      "Requirement already satisfied: numpy>=1.15.0 in d:\\mlenv\\lib\\site-packages (from spacy) (1.24.3)\n",
      "Requirement already satisfied: requests<3.0.0,>=2.13.0 in d:\\mlenv\\lib\\site-packages (from spacy) (2.31.0)\n",
      "Requirement already satisfied: pydantic!=1.8,!=1.8.1,<3.0.0,>=1.7.4 in d:\\mlenv\\lib\\site-packages (from spacy) (1.10.12)\n",
      "Requirement already satisfied: jinja2 in d:\\mlenv\\lib\\site-packages (from spacy) (3.1.2)\n",
      "Requirement already satisfied: setuptools in d:\\mlenv\\lib\\site-packages (from spacy) (68.2.2)\n",
      "Requirement already satisfied: packaging>=20.0 in d:\\mlenv\\lib\\site-packages (from spacy) (23.1)\n",
      "Requirement already satisfied: langcodes<4.0.0,>=3.2.0 in d:\\mlenv\\lib\\site-packages (from spacy) (3.3.0)\n",
      "Requirement already satisfied: typing-extensions>=4.2.0 in d:\\mlenv\\lib\\site-packages (from pydantic!=1.8,!=1.8.1,<3.0.0,>=1.7.4->spacy) (4.8.0)\n",
      "Requirement already satisfied: charset-normalizer<4,>=2 in d:\\mlenv\\lib\\site-packages (from requests<3.0.0,>=2.13.0->spacy) (3.2.0)\n",
      "Requirement already satisfied: idna<4,>=2.5 in d:\\mlenv\\lib\\site-packages (from requests<3.0.0,>=2.13.0->spacy) (3.4)\n",
      "Requirement already satisfied: urllib3<3,>=1.21.1 in d:\\mlenv\\lib\\site-packages (from requests<3.0.0,>=2.13.0->spacy) (1.26.16)\n",
      "Requirement already satisfied: certifi>=2017.4.17 in d:\\mlenv\\lib\\site-packages (from requests<3.0.0,>=2.13.0->spacy) (2023.7.22)\n",
      "Requirement already satisfied: blis<0.8.0,>=0.7.8 in d:\\mlenv\\lib\\site-packages (from thinc<8.2.0,>=8.1.8->spacy) (0.7.10)\n",
      "Requirement already satisfied: confection<1.0.0,>=0.0.1 in d:\\mlenv\\lib\\site-packages (from thinc<8.2.0,>=8.1.8->spacy) (0.1.3)\n",
      "Requirement already satisfied: colorama in d:\\mlenv\\lib\\site-packages (from tqdm<5.0.0,>=4.38.0->spacy) (0.4.6)\n",
      "Requirement already satisfied: click<9.0.0,>=7.1.1 in d:\\mlenv\\lib\\site-packages (from typer<0.10.0,>=0.3.0->spacy) (8.1.7)\n",
      "Requirement already satisfied: MarkupSafe>=2.0 in d:\\mlenv\\lib\\site-packages (from jinja2->spacy) (2.1.3)\n",
      "Note: you may need to restart the kernel to use updated packages.\n"
     ]
    }
   ],
   "source": [
    "pip install spacy"
   ]
  },
  {
   "cell_type": "code",
   "execution_count": 1,
   "metadata": {},
   "outputs": [],
   "source": [
    "import numpy as np\n",
    "import pandas as pd\n",
    "\n",
    "from sklearn.model_selection import train_test_split\n",
    "from sklearn.feature_extraction.text import TfidfVectorizer\n",
    "from sklearn.naive_bayes import MultinomialNB\n",
    "from sklearn.ensemble import RandomForestClassifier\n",
    "from sklearn.metrics import accuracy_score, classification_report\n",
    "\n",
    "import spacy"
   ]
  },
  {
   "cell_type": "markdown",
   "metadata": {},
   "source": [
    "# EDA"
   ]
  },
  {
   "cell_type": "code",
   "execution_count": 2,
   "metadata": {},
   "outputs": [
    {
     "name": "stdout",
     "output_type": "stream",
     "text": [
      "(5937, 2)\n"
     ]
    },
    {
     "data": {
      "text/html": [
       "<div>\n",
       "<style scoped>\n",
       "    .dataframe tbody tr th:only-of-type {\n",
       "        vertical-align: middle;\n",
       "    }\n",
       "\n",
       "    .dataframe tbody tr th {\n",
       "        vertical-align: top;\n",
       "    }\n",
       "\n",
       "    .dataframe thead th {\n",
       "        text-align: right;\n",
       "    }\n",
       "</style>\n",
       "<table border=\"1\" class=\"dataframe\">\n",
       "  <thead>\n",
       "    <tr style=\"text-align: right;\">\n",
       "      <th></th>\n",
       "      <th>Comment</th>\n",
       "      <th>Emotion</th>\n",
       "    </tr>\n",
       "  </thead>\n",
       "  <tbody>\n",
       "    <tr>\n",
       "      <th>0</th>\n",
       "      <td>i seriously hate one subject to death but now ...</td>\n",
       "      <td>fear</td>\n",
       "    </tr>\n",
       "    <tr>\n",
       "      <th>1</th>\n",
       "      <td>im so full of life i feel appalled</td>\n",
       "      <td>anger</td>\n",
       "    </tr>\n",
       "    <tr>\n",
       "      <th>2</th>\n",
       "      <td>i sit here to write i start to dig out my feel...</td>\n",
       "      <td>fear</td>\n",
       "    </tr>\n",
       "    <tr>\n",
       "      <th>3</th>\n",
       "      <td>ive been really angry with r and i feel like a...</td>\n",
       "      <td>joy</td>\n",
       "    </tr>\n",
       "    <tr>\n",
       "      <th>4</th>\n",
       "      <td>i feel suspicious if there is no one outside l...</td>\n",
       "      <td>fear</td>\n",
       "    </tr>\n",
       "  </tbody>\n",
       "</table>\n",
       "</div>"
      ],
      "text/plain": [
       "                                             Comment Emotion\n",
       "0  i seriously hate one subject to death but now ...    fear\n",
       "1                 im so full of life i feel appalled   anger\n",
       "2  i sit here to write i start to dig out my feel...    fear\n",
       "3  ive been really angry with r and i feel like a...     joy\n",
       "4  i feel suspicious if there is no one outside l...    fear"
      ]
     },
     "execution_count": 2,
     "metadata": {},
     "output_type": "execute_result"
    }
   ],
   "source": [
    "# Read the dataset with name \"Emotion_classify_Data.csv\" and store it in a variable df\n",
    "df = pd.read_csv(\"Emotion_classify_Data.csv\")\n",
    "\n",
    "# Print the shape of dataframe\n",
    "print(df.shape)\n",
    "\n",
    "# Print top 5 rows\n",
    "df.head(5)"
   ]
  },
  {
   "cell_type": "code",
   "execution_count": 3,
   "metadata": {},
   "outputs": [
    {
     "data": {
      "text/plain": [
       "Emotion\n",
       "anger    2000\n",
       "joy      2000\n",
       "fear     1937\n",
       "Name: count, dtype: int64"
      ]
     },
     "execution_count": 3,
     "metadata": {},
     "output_type": "execute_result"
    }
   ],
   "source": [
    "# Check the distribution of Emotion\n",
    "df['Emotion'].value_counts()"
   ]
  },
  {
   "cell_type": "markdown",
   "metadata": {},
   "source": [
    "# Preprocessing"
   ]
  },
  {
   "cell_type": "code",
   "execution_count": 4,
   "metadata": {},
   "outputs": [],
   "source": [
    "# load english language model and create nlp object from it\n",
    "nlp = spacy.load(\"en_core_web_sm\") "
   ]
  },
  {
   "cell_type": "code",
   "execution_count": 6,
   "metadata": {},
   "outputs": [
    {
     "data": {
      "text/plain": [
       "'when a friend of mine keeps telling me morbid things that happened to his dog'"
      ]
     },
     "execution_count": 6,
     "metadata": {},
     "output_type": "execute_result"
    }
   ],
   "source": [
    "txt = df['Comment'][6]\n",
    "txt"
   ]
  },
  {
   "cell_type": "code",
   "execution_count": 7,
   "metadata": {},
   "outputs": [],
   "source": [
    "# Tokenization\n",
    "doc = nlp(txt)"
   ]
  },
  {
   "cell_type": "markdown",
   "metadata": {},
   "source": [
    "### Sentence Tokenization\n",
    "No need to do it as data in dataframe is splitted in sentences"
   ]
  },
  {
   "cell_type": "code",
   "execution_count": 8,
   "metadata": {},
   "outputs": [],
   "source": [
    "# for sentence in doc.sents:\n",
    "#     print(sentence)"
   ]
  },
  {
   "cell_type": "markdown",
   "metadata": {},
   "source": [
    "### Word Tokenization"
   ]
  },
  {
   "cell_type": "code",
   "execution_count": 8,
   "metadata": {},
   "outputs": [
    {
     "name": "stdout",
     "output_type": "stream",
     "text": [
      "when\n",
      "a\n",
      "friend\n",
      "of\n",
      "mine\n",
      "keeps\n",
      "telling\n",
      "me\n",
      "morbid\n",
      "things\n",
      "that\n",
      "happened\n",
      "to\n",
      "his\n",
      "dog\n"
     ]
    }
   ],
   "source": [
    "for token in doc:\n",
    "    print(token)"
   ]
  },
  {
   "cell_type": "markdown",
   "metadata": {},
   "source": [
    "### Stemming and Lemmatization"
   ]
  },
  {
   "cell_type": "code",
   "execution_count": 9,
   "metadata": {},
   "outputs": [
    {
     "name": "stdout",
     "output_type": "stream",
     "text": [
      "Word: when | -> when\n",
      "Word: a | -> a\n",
      "Word: friend | -> friend\n",
      "Word: of | -> of\n",
      "Word: mine | -> mine\n",
      "Word: keeps | -> keep\n",
      "Word: telling | -> tell\n",
      "Word: me | -> I\n",
      "Word: morbid | -> morbid\n",
      "Word: things | -> thing\n",
      "Word: that | -> that\n",
      "Word: happened | -> happen\n",
      "Word: to | -> to\n",
      "Word: his | -> his\n",
      "Word: dog | -> dog\n"
     ]
    }
   ],
   "source": [
    "for token in doc:\n",
    "    print(f\"Word: {token} | -> {token.lemma_}\")"
   ]
  },
  {
   "cell_type": "markdown",
   "metadata": {},
   "source": [
    "### Stop Words"
   ]
  },
  {
   "cell_type": "code",
   "execution_count": 10,
   "metadata": {},
   "outputs": [
    {
     "name": "stdout",
     "output_type": "stream",
     "text": [
      "when\n",
      "a\n",
      "of\n",
      "mine\n",
      "me\n",
      "that\n",
      "to\n",
      "his\n"
     ]
    }
   ],
   "source": [
    "for token in doc:\n",
    "    if token.is_stop or token.is_punct:\n",
    "        print(token)"
   ]
  },
  {
   "cell_type": "markdown",
   "metadata": {},
   "source": [
    "### **Preprocess Function**"
   ]
  },
  {
   "cell_type": "code",
   "execution_count": 11,
   "metadata": {},
   "outputs": [],
   "source": [
    "# use this utility function to get the preprocessed text data\n",
    "def preprocess(text):\n",
    "    # remove stop words and lemmatize the text\n",
    "    doc = nlp(text)\n",
    "    filtered_tokens = []\n",
    "    for token in doc:\n",
    "        if token.is_stop or token.is_punct:\n",
    "            continue\n",
    "        filtered_tokens.append(token.lemma_)\n",
    "    \n",
    "    return \" \".join(filtered_tokens) "
   ]
  },
  {
   "cell_type": "code",
   "execution_count": 12,
   "metadata": {},
   "outputs": [
    {
     "name": "stdout",
     "output_type": "stream",
     "text": [
      "when a friend of mine keeps telling me morbid things that happened to his dog\n",
      "friend keep tell morbid thing happen dog\n"
     ]
    }
   ],
   "source": [
    "print(txt)\n",
    "procces_txt = preprocess(txt)\n",
    "print(procces_txt)"
   ]
  },
  {
   "cell_type": "markdown",
   "metadata": {},
   "source": [
    "## Apply preprocess function on dataframe"
   ]
  },
  {
   "cell_type": "code",
   "execution_count": 13,
   "metadata": {},
   "outputs": [],
   "source": [
    "df['preprocessed_comment'] = df['Comment'].apply(preprocess) "
   ]
  },
  {
   "cell_type": "code",
   "execution_count": 14,
   "metadata": {},
   "outputs": [
    {
     "data": {
      "text/html": [
       "<div>\n",
       "<style scoped>\n",
       "    .dataframe tbody tr th:only-of-type {\n",
       "        vertical-align: middle;\n",
       "    }\n",
       "\n",
       "    .dataframe tbody tr th {\n",
       "        vertical-align: top;\n",
       "    }\n",
       "\n",
       "    .dataframe thead th {\n",
       "        text-align: right;\n",
       "    }\n",
       "</style>\n",
       "<table border=\"1\" class=\"dataframe\">\n",
       "  <thead>\n",
       "    <tr style=\"text-align: right;\">\n",
       "      <th></th>\n",
       "      <th>Comment</th>\n",
       "      <th>Emotion</th>\n",
       "      <th>preprocessed_comment</th>\n",
       "    </tr>\n",
       "  </thead>\n",
       "  <tbody>\n",
       "    <tr>\n",
       "      <th>0</th>\n",
       "      <td>i seriously hate one subject to death but now ...</td>\n",
       "      <td>fear</td>\n",
       "      <td>seriously hate subject death feel reluctant drop</td>\n",
       "    </tr>\n",
       "    <tr>\n",
       "      <th>1</th>\n",
       "      <td>im so full of life i feel appalled</td>\n",
       "      <td>anger</td>\n",
       "      <td>m life feel appalled</td>\n",
       "    </tr>\n",
       "    <tr>\n",
       "      <th>2</th>\n",
       "      <td>i sit here to write i start to dig out my feel...</td>\n",
       "      <td>fear</td>\n",
       "      <td>sit write start dig feeling think afraid accep...</td>\n",
       "    </tr>\n",
       "    <tr>\n",
       "      <th>3</th>\n",
       "      <td>ive been really angry with r and i feel like a...</td>\n",
       "      <td>joy</td>\n",
       "      <td>ve angry r feel like idiot trust place</td>\n",
       "    </tr>\n",
       "    <tr>\n",
       "      <th>4</th>\n",
       "      <td>i feel suspicious if there is no one outside l...</td>\n",
       "      <td>fear</td>\n",
       "      <td>feel suspicious outside like rapture happen</td>\n",
       "    </tr>\n",
       "    <tr>\n",
       "      <th>...</th>\n",
       "      <td>...</td>\n",
       "      <td>...</td>\n",
       "      <td>...</td>\n",
       "    </tr>\n",
       "    <tr>\n",
       "      <th>5932</th>\n",
       "      <td>i begun to feel distressed for you</td>\n",
       "      <td>fear</td>\n",
       "      <td>begin feel distressed</td>\n",
       "    </tr>\n",
       "    <tr>\n",
       "      <th>5933</th>\n",
       "      <td>i left feeling annoyed and angry thinking that...</td>\n",
       "      <td>anger</td>\n",
       "      <td>leave feel annoyed angry thinking center stupi...</td>\n",
       "    </tr>\n",
       "    <tr>\n",
       "      <th>5934</th>\n",
       "      <td>i were to ever get married i d have everything...</td>\n",
       "      <td>joy</td>\n",
       "      <td>marry d ready offer ve get club perfect good l...</td>\n",
       "    </tr>\n",
       "    <tr>\n",
       "      <th>5935</th>\n",
       "      <td>i feel reluctant in applying there because i w...</td>\n",
       "      <td>fear</td>\n",
       "      <td>feel reluctant apply want able find company kn...</td>\n",
       "    </tr>\n",
       "    <tr>\n",
       "      <th>5936</th>\n",
       "      <td>i just wanted to apologize to you because i fe...</td>\n",
       "      <td>anger</td>\n",
       "      <td>want apologize feel like heartless bitch</td>\n",
       "    </tr>\n",
       "  </tbody>\n",
       "</table>\n",
       "<p>5937 rows × 3 columns</p>\n",
       "</div>"
      ],
      "text/plain": [
       "                                                Comment Emotion  \\\n",
       "0     i seriously hate one subject to death but now ...    fear   \n",
       "1                    im so full of life i feel appalled   anger   \n",
       "2     i sit here to write i start to dig out my feel...    fear   \n",
       "3     ive been really angry with r and i feel like a...     joy   \n",
       "4     i feel suspicious if there is no one outside l...    fear   \n",
       "...                                                 ...     ...   \n",
       "5932                 i begun to feel distressed for you    fear   \n",
       "5933  i left feeling annoyed and angry thinking that...   anger   \n",
       "5934  i were to ever get married i d have everything...     joy   \n",
       "5935  i feel reluctant in applying there because i w...    fear   \n",
       "5936  i just wanted to apologize to you because i fe...   anger   \n",
       "\n",
       "                                   preprocessed_comment  \n",
       "0      seriously hate subject death feel reluctant drop  \n",
       "1                                  m life feel appalled  \n",
       "2     sit write start dig feeling think afraid accep...  \n",
       "3                ve angry r feel like idiot trust place  \n",
       "4           feel suspicious outside like rapture happen  \n",
       "...                                                 ...  \n",
       "5932                              begin feel distressed  \n",
       "5933  leave feel annoyed angry thinking center stupi...  \n",
       "5934  marry d ready offer ve get club perfect good l...  \n",
       "5935  feel reluctant apply want able find company kn...  \n",
       "5936           want apologize feel like heartless bitch  \n",
       "\n",
       "[5937 rows x 3 columns]"
      ]
     },
     "execution_count": 14,
     "metadata": {},
     "output_type": "execute_result"
    }
   ],
   "source": [
    "df"
   ]
  },
  {
   "cell_type": "markdown",
   "metadata": {},
   "source": [
    "## Encoding target column"
   ]
  },
  {
   "cell_type": "code",
   "execution_count": 15,
   "metadata": {},
   "outputs": [
    {
     "data": {
      "text/html": [
       "<div>\n",
       "<style scoped>\n",
       "    .dataframe tbody tr th:only-of-type {\n",
       "        vertical-align: middle;\n",
       "    }\n",
       "\n",
       "    .dataframe tbody tr th {\n",
       "        vertical-align: top;\n",
       "    }\n",
       "\n",
       "    .dataframe thead th {\n",
       "        text-align: right;\n",
       "    }\n",
       "</style>\n",
       "<table border=\"1\" class=\"dataframe\">\n",
       "  <thead>\n",
       "    <tr style=\"text-align: right;\">\n",
       "      <th></th>\n",
       "      <th>Comment</th>\n",
       "      <th>Emotion</th>\n",
       "      <th>preprocessed_comment</th>\n",
       "      <th>Emotion_num</th>\n",
       "    </tr>\n",
       "  </thead>\n",
       "  <tbody>\n",
       "    <tr>\n",
       "      <th>0</th>\n",
       "      <td>i seriously hate one subject to death but now ...</td>\n",
       "      <td>fear</td>\n",
       "      <td>seriously hate subject death feel reluctant drop</td>\n",
       "      <td>1</td>\n",
       "    </tr>\n",
       "    <tr>\n",
       "      <th>1</th>\n",
       "      <td>im so full of life i feel appalled</td>\n",
       "      <td>anger</td>\n",
       "      <td>m life feel appalled</td>\n",
       "      <td>2</td>\n",
       "    </tr>\n",
       "    <tr>\n",
       "      <th>2</th>\n",
       "      <td>i sit here to write i start to dig out my feel...</td>\n",
       "      <td>fear</td>\n",
       "      <td>sit write start dig feeling think afraid accep...</td>\n",
       "      <td>1</td>\n",
       "    </tr>\n",
       "    <tr>\n",
       "      <th>3</th>\n",
       "      <td>ive been really angry with r and i feel like a...</td>\n",
       "      <td>joy</td>\n",
       "      <td>ve angry r feel like idiot trust place</td>\n",
       "      <td>0</td>\n",
       "    </tr>\n",
       "    <tr>\n",
       "      <th>4</th>\n",
       "      <td>i feel suspicious if there is no one outside l...</td>\n",
       "      <td>fear</td>\n",
       "      <td>feel suspicious outside like rapture happen</td>\n",
       "      <td>1</td>\n",
       "    </tr>\n",
       "  </tbody>\n",
       "</table>\n",
       "</div>"
      ],
      "text/plain": [
       "                                             Comment Emotion  \\\n",
       "0  i seriously hate one subject to death but now ...    fear   \n",
       "1                 im so full of life i feel appalled   anger   \n",
       "2  i sit here to write i start to dig out my feel...    fear   \n",
       "3  ive been really angry with r and i feel like a...     joy   \n",
       "4  i feel suspicious if there is no one outside l...    fear   \n",
       "\n",
       "                                preprocessed_comment  Emotion_num  \n",
       "0   seriously hate subject death feel reluctant drop            1  \n",
       "1                               m life feel appalled            2  \n",
       "2  sit write start dig feeling think afraid accep...            1  \n",
       "3             ve angry r feel like idiot trust place            0  \n",
       "4        feel suspicious outside like rapture happen            1  "
      ]
     },
     "execution_count": 15,
     "metadata": {},
     "output_type": "execute_result"
    }
   ],
   "source": [
    "df['Emotion_num'] = df['Emotion'].map({'joy' : 0, 'fear': 1, 'anger': 2})\n",
    "\n",
    "df.head(5)"
   ]
  },
  {
   "cell_type": "markdown",
   "metadata": {},
   "source": [
    "## Split data into train and test"
   ]
  },
  {
   "cell_type": "code",
   "execution_count": 16,
   "metadata": {},
   "outputs": [],
   "source": [
    "X_train, X_test, y_train, y_test = train_test_split(df['preprocessed_comment'], df['Emotion_num'], \n",
    "                                                    test_size=0.4, random_state=42, stratify=df['Emotion_num'])"
   ]
  },
  {
   "cell_type": "code",
   "execution_count": 17,
   "metadata": {},
   "outputs": [
    {
     "name": "stdout",
     "output_type": "stream",
     "text": [
      "Shape of X_train:  (3562,)\n",
      "Shape of X_test:  (2375,)\n"
     ]
    }
   ],
   "source": [
    "print(\"Shape of X_train: \", X_train.shape)\n",
    "print(\"Shape of X_test: \", X_test.shape)"
   ]
  },
  {
   "cell_type": "markdown",
   "metadata": {},
   "source": [
    "## Convert text column to numeric vector"
   ]
  },
  {
   "cell_type": "code",
   "execution_count": 18,
   "metadata": {
    "_kg_hide-output": true,
    "jupyter": {
     "outputs_hidden": true
    }
   },
   "outputs": [
    {
     "name": "stdout",
     "output_type": "stream",
     "text": [
      "{'feel': 1676, 'festive': 1687, 'today': 4680, 'go': 1947, 'tree': 4741, 'soon': 4257, 've': 4929, 'finish': 1713, 'catch': 664, 'week': 5047, 'going': 1951, 'on': 3161, 'coronation': 962, 'street': 4399, 'want': 5010, 'need': 3035, 'know': 2558, 'bleed': 475, 'fuck': 1839, 'world': 5138, 'blessed': 478, 'think': 4632, 'tragic': 4713, 'happen': 2050, 'future': 1861, 'huhuhu': 2199, 'battle': 387, 'positive': 3448, 'thing': 4631, 'anxious': 197, 'come': 830, 'event': 1538, 'activity': 49, 'require': 3801, 'physical': 3359, 'energy': 1471, 'emotional': 1443, 'look': 2712, 'parent': 3266, 'adult': 70, 'charge': 701, 'hostel': 2182, 'break': 541, 'sit': 4150, 'dark': 1083, 'room': 3882, 'minute': 2895, 'try': 4768, 'figure': 1699, 'offended': 3142, 'heed': 2107, 'advice': 78, 'horse': 2180, 'coope': 950, 'determine': 1190, 'get': 1912, 'little': 2685, 'stretch': 4405, 'weather': 5040, 'chance': 694, 'outside': 3206, 'like': 2660, 'vicious': 4946, 'circle': 750, 'angry': 173, 'mad': 2756, 'bitter': 460, 'particularly': 3276, 'bitchy': 458, 'not': 3096, 'adequately': 59, 'express': 1601, 'appreciation': 225, 'rarely': 3664, 'advance': 72, 'worthwhile': 5145, 'cause': 666, 'stick': 4371, 'rule': 3901, 'post': 3455, 'online': 3165, 'prepared': 3495, 'somebodys': 4248, 'face': 1617, 'difference': 1215, 'strength': 4400, 'technique': 4574, 'class': 760, 'start': 4349, 'find': 1710, 'balance': 349, 'pretty': 3506, 'shaky': 4060, 'business': 603, 'car': 640, 'roommate': 3883, 'family': 1635, 'rude': 3897, 'dad': 1070, 'direction': 1232, 'keep': 2528, 'ask': 263, 'bring': 554, 'tenge': 4593, 'impatient': 2260, 'offer': 3146, 'show': 4109, 'people': 3318, 'trust': 4763, 'relaxed': 3755, 'safe': 3922, 'quiet': 3623, 'handle': 2043, 'frequently': 1814, 'question': 3618, 'stress': 4402, 'good': 1954, 'idea': 2232, 'give': 1925, 'time': 4662, 'recover': 3707, 'nervous': 3048, 'overwhelmed': 3226, 'opportunity': 3174, 'escape': 1516, 'inclined': 2287, 'frustrated': 1837, 'way': 5034, 'save': 3954, 'pissed': 3384, 'sleep': 4169, 'hasan': 2066, 'man': 2773, 'make': 2767, 'shy': 4115, 'retiring': 3830, 'modest': 2922, 'true': 4761, 'english': 1475, 'word': 5131, 'schadenfreude': 3970, 'live': 2686, 'long': 2709, 'leave': 2615, 'worry': 5141, 'sweet': 4509, 'cesspool': 683, 'uptight': 4895, 'tense': 4595, 'see': 4002, 'understand': 4821, 'woman': 5123, 'deal': 1100, 'shit': 4085, 'ready': 3678, 'cry': 1044, 'presence': 3496, 'ruach': 3895, 'hakodesh': 2033, 'holy': 2148, 'spirit': 4303, 'right': 3853, 'afraid': 88, 'hold': 2141, 'tight': 4658, 'faith': 1628, 'day': 1094, 'rain': 3644, 'person': 3333, 'carefree': 648, 'liberated': 2647, 'recognize': 3703, 'uncertain': 4811, 'concern': 876, 'circumstance': 752, 'environment': 1505, 'change': 695, 'self': 4014, 'conscious': 903, 'short': 4100, 'wish': 5115, 'repeat': 3789, 'life': 2653, 'control': 939, 'doesn': 1309, 'work': 5132, 'bless': 477, 'pray': 3478, 'fear': 1664, 'happy': 2054, 'birthday': 454, 'novel': 3103, 'position': 3447, 'bit': 456, 'stock': 4382, 'market': 2795, 'rally': 3648, 'guess': 2010, 'hear': 2093, 'month': 2937, 'comment': 840, 'honestly': 2158, 'reluctant': 3767, 'share': 4066, 'experience': 1591, 'incomplete': 2290, 'especially': 1518, 'shift': 4079, 'wrong': 5159, 'al': 110, 'agitated': 98, 'totally': 4700, 'sure': 4487, 'study': 4423, 'perfect': 3321, 'example': 1557, 'christian': 742, 'saint': 3926, 'reach': 3671, 'suspicious': 4501, 'dissatisfied': 1278, 'review': 3839, 'film': 1702, 'blog': 485, 'entry': 1500, 'david': 1092, 'garden': 1877, 'feeling': 1678, 'slightly': 4175, 'smug': 4201, 'discover': 1252, 'shortlist': 4102, 'band': 359, 'distract': 1287, 'hardcore': 2056, 'dancer': 1078, 'flail': 1723, 'wait': 4995, 'girlfriend': 1923, 'apt': 232, 'late': 2589, 'awful': 324, 'hesitant': 2124, 'care': 645, 'someone': 4249, 'spiritual': 4304, 'intellectual': 2372, 'progress': 3548, 'point': 3418, 'exert': 1577, 'important': 2267, 'love': 2732, 'inspire': 2355, 'eager': 1376, 'press': 3501, 'sun': 4470, 'shine': 4081, 'shallow': 4062, 'atention': 284, 'distance': 1283, 'confusion': 898, 'stop': 4385, 'insult': 2366, 'misstreate': 2907, 'affeccion': 83, 'scared': 3963, 'ra': 3633, 'lot': 2724, 'job': 2486, 'remember': 3774, 'terrified': 4604, 'brazil': 540, 'bus': 602, 'steep': 4364, 'mountain': 2956, 'hill': 2137, 'middle': 2875, 'big': 444, 'storm': 4387, 'wonder': 5125, 'fall': 1632, 'christmas': 744, 'present': 3497, 'away': 322, 'explain': 1594, 'problem': 3529, 'bottle': 525, 'dump': 1364, 'selfish': 4015, 'search': 3989, 'happiness': 2052, 'solution': 4244, 'dissatisfy': 1279, 'skin': 4158, 'pleasant': 3404, 'threaten': 4640, 'guy': 2022, 'cox': 993, 'contact': 926, 'bf': 440, 'lisa': 2677, 'god': 1949, 'friend': 1822, 'folk': 1767, 'park': 3269, 'smart': 4190, 'inch': 2284, 'separate': 4032, 'hate': 2071, 'half': 2034, 'sore': 4261, 'touch': 4702, 'use': 4899, 'muscle': 2982, 'assure': 281, 'pass': 3280, 'assaulted': 269, 'radio': 3641, 'ad': 54, 'movie': 2963, 'frightened': 1828, 'convince': 943, 'number': 3108, 'kind': 2542, 'mystical': 2992, 'power': 3465, 'key': 2531, 'government': 1963, 'conspiracy': 914, 'jealous': 2470, 'realize': 3684, 'solely': 4239, 'large': 2585, 'network': 3055, 'social': 4228, 'interaction': 2384, 'factor': 1620, 'culture': 1049, 'cooking': 948, 'mystique': 2993, 'clown': 793, 'outgoing': 3201, 'restless': 3826, 'home': 2149, 'sunny': 4472, 'irritated': 2430, 'distracted': 1288, 'overreact': 3219, 'torture': 4696, 'tonight': 4691, 'giver': 1926, 'taker': 4539, 'consider': 906, 'violent': 4966, 'answer': 191, 'clever': 776, 'don': 1316, 'careeeeee': 646, 'savage': 3953, 'plan': 3389, 'tomorrow': 4688, 'offend': 3141, 'dork': 1320, 'censorship': 676, 'cubicle': 1046, 'doom': 1317, 'skeptical': 4155, 'lose': 2721, 'finally': 1706, 'asleep': 264, 'useless': 4901, 'anxiety': 196, 'compare': 855, 'sneha': 4210, 'expect': 1587, 'vulnerable': 4992, 'bitch': 457, 'countless': 982, 'impoverished': 2272, 'suffer': 4456, 'surely': 4488, 'fold': 1766, 'walk': 5001, 'helpless': 2117, 'hopeless': 2172, 'didn': 1211, 'rush': 3907, 'million': 2888, 'able': 8, 'focus': 1763, 'task': 4554, 'separately': 4033, 'twitchy': 4789, 'physically': 3360, 'agitate': 97, 'primary': 3513, 'reason': 3686, 'sense': 4025, 'uncomfortable': 4814, 'deliver': 1144, 'letter': 2641, 'willing': 5095, 'attribute': 301, 'weird': 5056, 'romantic': 3879, 'visitor': 4977, 'journal': 2497, 'rebellious': 3689, 'end': 1460, 'instead': 2360, 'beginning': 409, 'place': 3387, 'cycle': 1066, 'country': 983, 'angered': 170, 'somewhat': 4251, 'liar': 2644, 'blackburn': 464, 'stubborn': 4418, 'team': 4569, 'blackpool': 465, 'holloway': 2146, 'reaction': 3673, 'game': 1870, 'result': 3827, 'sick': 4118, 'fact': 1619, 'far': 1643, 'depend': 1160, 'proud': 3572, 'let': 2638, 'grouchy': 1999, 'upset': 4891, 'situation': 4153, 'girl': 1922, 'wasn': 5028, 'hope': 2169, 'respected': 3818, 'notion': 3100, 'ensure': 1488, 'respect': 3817, 'resentful': 3807, 'sign': 4128, 'mothering': 2949, 'miss': 2905, 'you': 5194, 'feedback': 1673, 'shut': 4114, 'bad': 340, 'apple': 220, 'baffle': 344, 'equally': 1511, 'aware': 320, 'learn': 2613, 'season': 3990, 'excited': 1566, 'company': 853, 'incredibly': 2298, 'complain': 862, 'attack': 293, 'star': 4347, 'tear': 4570, 'relieve': 3762, 'profoundly': 3545, 'anime': 178, 'dumb': 1362, 'pressured': 3503, 'write': 5156, 'pressure': 3502, 'ingrain': 2327, 'shake': 4058, 'stir': 4380, 'nice': 3068, 'bond': 507, 'reference': 3722, 'ehh': 1415, 'old': 3156, 'strange': 4393, 'frantically': 1803, 'frantic': 1802, 'studio': 4422, 'read': 3675, 'thrilled': 4643, 'valuable': 4920, 'unhealthy': 4846, 'weight': 5052, 'gain': 1865, 'piss': 3383, 'creep': 1022, 'gracious': 1966, 'freak': 1806, 'finance': 1707, 'fit': 1719, 'smooth': 4200, 'monetarily': 2934, 'wouldn': 5147, 'distressed': 1292, 'jaw': 2467, 'jam': 2460, 'excessive': 1563, 'noseband': 3094, 'considerable': 907, 'metal': 2870, 'mouth': 2960, 'take': 4537, 'fine': 1711, 'episode': 1509, 'scare': 3962, 'wake': 4998, 'content': 929, 'amp': 156, 'optimistic': 3180, 'terrible': 4601, 'cold': 812, 'complete': 864, 'lack': 2570, 'annoyed': 184, 'confident': 891, 'here': 2121, 'gorgeous': 1959, 'pair': 3245, 'cream': 1012, 'lemon': 2626, 'recently': 3693, 'purchase': 3597, 'warehouse': 5016, 'sale': 3929, 'distraught': 1290, 'worried': 5140, 'panic': 3251, 'sad': 3918, 'bother': 522, 'topic': 4695, 'sor': 4260, 'gratitude': 1980, 'heavenly': 2103, 'father': 1655, 'ill': 2245, 'round': 3890, 'quarter': 3612, 'hopeful': 2170, 'annoy': 183, 'agiatate': 96, 'sis': 4148, 'darn': 1086, 'cos': 967, 'tell': 4582, 'geek': 1888, 'amy': 160, 'energetic': 1467, 'pain': 3241, 'option': 3181, 'ou': 3193, 'win': 5101, 'strong': 4412, 'competition': 860, 'talented': 4543, 'ok': 3154, 'state': 4356, 'squad': 4326, 'master': 2811, 'wanting': 5011, 'enjoy': 1478, 'attention': 296, 'desire': 1175, 'return': 3832, 'affection': 85, 'talk': 4544, 'group': 2001, 'well': 5058, 'year': 5180, 'secondary': 3994, 'school': 3974, 'wine': 5105, 'amuse': 157, 'mention': 2859, 'color': 820, 'eye': 1612, 'benefit': 431, 'creative': 1015, 'information': 2324, 'put': 3604, 'practice': 3471, 'session': 4044, 'beat': 397, 'basically': 378, 'certain': 681, 'occasion': 3131, 'fight': 1697, 'boyfriend': 533, 'close': 785, 'door': 1318, 'berate': 434, 'watch': 5030, 'foot': 1774, 'ocean': 3137, 'freaking': 1807, 'wave': 5032, 'crash': 1005, 'cover': 990, 'majority': 2765, 'earth': 1383, 'decade': 1107, 'ahead': 103, 'abide': 5, 'political': 3428, 'mess': 2866, 'enraged': 1485, 'uk': 4799, 'politic': 3427, 'dismiss': 1267, 'blindly': 481, 'disintereste': 1264, 'discuss': 1253, 'opinion': 3172, 'confused': 897, 'bear': 394, 'motion': 2950, 'quilt': 3625, 'delight': 1142, 'ago': 99, 'cool': 949, 'certainly': 682, 'doctor': 1306, 'fab': 1614, 'hour': 2187, 'sam': 3932, 'oblige': 3123, 'andrea': 165, 'grow': 2003, 'belly': 422, 'movement': 2962, 'envious': 1503, 'antsy': 195, 'irritable': 2428, 'new': 3059, 'small': 4189, 'meeting': 2847, 'sleepy': 4170, 'stay': 4361, 'awake': 318, 'startled': 4352, 'drunk': 1357, 'accept': 21, 'community': 850, 'popular': 3438, 'blogger': 487, 'freedom': 1810, 'anymore': 199, 'rare': 3663, 'exception': 1560, 'aesthetic': 81, 'nauseate': 3023, 'grumpy': 2007, 'moanday': 2916, 'blue': 494, 'invigorated': 2411, 'focused': 1764, 'lead': 2608, 'pursue': 3600, 'issue': 2443, 'regard': 3732, 'high': 2133, 'urgency': 4897, 'summer': 4468, 'vacation': 4912, 'relaxation': 3754, 'sort': 4264, 'unsure': 4876, 'cranky': 1002, 'keen': 2526, 'develop': 1194, 'promise': 3554, 'honkerblonke': 2161, 'general': 1894, 'lonely': 2707, 'cat': 662, 'relatively': 3752, 'indecisive': 2300, 'hungry': 2212, 'past': 3286, 'barbeque': 369, 'kill': 2540, 'solve': 4245, 'hopelessness': 2174, 'sadness': 3921, 'destroy': 1187, 'slowly': 4185, 'choice': 737, 'trip': 4753, 'combination': 827, 'excitement': 1567, 'dread': 1342, 'img': 2253, 'aligncenter': 121, 'size': 4154, 'wp': 5150, 'image': 2251, 'src': 4333, 'http': 2193, 'mrdanbaird': 2964, 'path': 3289, 'travel': 4736, 'lift': 2657, 'help': 2116, 'joy': 2500, 'matter': 2818, 'declare': 1113, 'sickening': 4120, 'sing': 4141, 'songy': 4254, 'voice': 4983, 'frankly': 1801, 'divine': 1298, 'second': 3993, 'glamorous': 1928, 'mother': 2947, 'child': 727, 'young': 5195, 'age': 92, 'hurt': 2214, 'alteration': 135, 'dangerous': 1080, 'pull': 3586, 'quixote': 3631, 'blinding': 480, 'windmill': 5103, 'eventual': 1539, 'marriage': 2797, 'meet': 2846, 'run': 3902, 'apprehensive': 227, 'immense': 2258, 'sympathy': 4524, 'possible': 3453, 'proto': 3571, 'writer': 5157, 'corner': 959, 'agent': 93, 'publishing': 3584, 'contract': 935, 'precious': 3481, 'innocent': 2338, 'death': 1103, 'row': 3894, 'constantly': 916, 'paranoid': 3262, 'facebook': 1618, 'check': 712, 'hasn': 2067, 'text': 4612, 'phone': 3354, 'edgy': 1402, 'straight': 4389, 'blink': 482, 'heartless': 2099, 'decision': 1112, 'throw': 4649, 'crap': 1003, 'beauty': 399, 'begin': 408, 'angel': 168, 'nature': 3019, 'fun': 1850, 'couple': 984, 'ffs': 1690, 'twitter': 4790, 'grateful': 1979, 'body': 501, 'vibration': 4943, 'hand': 2039, 'head': 2082, 'dress': 1345, 'bah': 347, 'humbug': 2204, 'type': 4792, 'productive': 3539, 'amazing': 140, 'normal': 3090, 'pre': 3480, 'thanksgiving': 4620, 'celebration': 674, 'softball': 4238, 'aconfident': 43, 'heart': 2095, 'overcomet': 3213, 'reassure': 3688, 'huge': 2197, 'finger': 1712, 'ring': 3856, 'soft': 4237, 'deeply': 1117, 'house': 2188, 'morning': 2944, 'personalize': 3337, 'appreciate': 224, 'real': 3679, 'sincere': 4139, 'play': 3398, 'security': 4001, 'character': 699, 'role': 3874, 'abit': 7, 'mood': 2939, 'evening': 1537, 'banana': 358, 'breakfast': 542, 'chocolate': 736, 'dinner': 1228, 'sunday': 4471, 'roast': 3869, 'tea': 4565, 'insecure': 2344, 'confidence': 890, 'sting': 4378, 'tooth': 4694, 'anger': 169, 'worth': 5143, 'spew': 4296, 'desperation': 1180, 'receive': 3691, 'involve': 2414, 'pleased': 3406, 'intimidate': 2399, 'amazingness': 142, 'mom': 2927, 'perfectly': 3322, 'organize': 3189, 'entertained': 1491, 'youthful': 5197, 'employment': 1449, 'simply': 4136, 'professional': 3541, 'decide': 1110, 'forget': 1784, 'disagreement': 1239, 'poor': 3435, 'single': 4144, 'agree': 101, 'scream': 3982, 'fix': 1722, 'hit': 2140, 'snooze': 4218, 'button': 608, 'thankful': 4617, 'lesson': 2635, 'felt': 1682, 'unfairly': 4834, 'treat': 4739, 'airport': 109, 'viewer': 4953, 'rating': 3667, 'drama': 1338, 'iris': 2420, 'success': 4447, 'greedy': 1985, 'successful': 4448, 'arun': 256, 'line': 2672, 'extremely': 1610, 'personal': 3335, 'nationality': 3016, 'blah': 468, 'outraged': 3205, 'favourite': 1662, 'smell': 4193, 'fresh': 1815, 'carry': 653, 'audre': 305, 'lorde': 2720, 'quote': 3632, 'refer': 3721, 'fearful': 1665, 'dare': 1082, 'powerful': 3466, 'service': 4043, 'vision': 4975, 'college': 818, 'productivity': 3540, 'gear': 1887, 'chalk': 689, 'art': 247, 'project': 3549, 'train': 4716, 'army': 240, 'pigeon': 3370, 'tiny': 4669, 'uninhabited': 4847, 'island': 2435, 'anansi': 163, 'boy': 532, 'sociable': 4227, 'practise': 3472, 'fair': 1625, 'walking': 5002, 'nursery': 3111, 'slope': 4180, 'piece': 3369, 'unfinished': 4838, 'attend': 295, 'edit': 1403, 'article': 248, 'freud': 1817, 'dream': 1344, 'irma': 2421, 'injection': 2334, 'near': 3029, 'completion': 867, 'subsequently': 4439, 'todd': 4681, 'stressed': 4403, 'tired': 4673, 'caleb': 616, 'frustration': 1838, 'excuse': 1572, 'truly': 4762, 'desperate': 1179, 'intervention': 2395, 'behalf': 410, 'footing': 1776, 'profile': 3543, 'have': 2077, 'responsible': 3823, 'pick': 3364, 'weekend': 5048, 'overcome': 3212, 'heat': 2100, 'href': 2191, 'idreamculture': 2242, 'blow': 492, 'nose': 3093, 'hateful': 2073, 'memory': 2855, 'everchanging': 1541, 'sailormoon': 3925, 'gateway': 1882, 'stupid': 4428, 'mean': 2827, 'misunderstood': 2911, 'thought': 4638, 'relief': 3761, 'linger': 2673, 'usual': 4904, 'delay': 1138, 'listen': 2679, 'occur': 3135, 'moment': 2928, 'thai': 4615, 'introduction': 2403, 'convinced': 944, 'artist': 252, 'forth': 1790, 'one': 3164, 'sake': 3927, 'shackle': 4055, 'society': 4231, 'norm': 3089, 'whore': 5084, 'sniiiiifff': 4212, 'honey': 2160, 'loved': 2733, 'imagine': 2252, 'sacred': 3916, 'communion': 849, 'understanding': 4822, 'sublime': 4437, 'term': 4598, 'balk': 352, 'soup': 4270, 'relax': 3753, 'distinctly': 1285, 'believe': 418, 'smile': 4195, 'tug': 4774, 'lip': 2675, 'drug': 1355, 'serve': 4042, 'north': 3092, 'pole': 3422, 'buffy': 583, 'multiple': 2973, 'dog': 1310, 'flight': 1741, 'pan': 3249, 'worthless': 5144, 'daughter': 1091, 'prompt': 3555, 'wear': 5038, 'visable': 4973, 'spotlight': 4318, 'different': 1216, 'unfashionable': 4837, 'embarrassed': 1434, 'ashamed': 259, 'will': 5093, 'brave': 539, 'suppose': 4483, 'intention': 2379, 'abruptly': 12, 'remind': 3776, 'la': 2565, 'knight': 2552, 'denim': 1151, 'gym': 2024, 'spend': 4294, 'money': 2935, 'mainly': 2764, 'garbage': 1876, 'allergy': 126, 'glad': 1927, 'cancel': 630, 'induce': 2309, 'nightlife': 3077, 'speed': 4290, 'bouncy': 528, 'area': 234, 'damage': 1074, 'destruction': 1188, 'disabled': 1237, 'deserve': 1172, 'dignity': 1222, 'shun': 4112, 'laugh': 2593, 'insulted': 2367, 'violence': 4965, 'petty': 3348, 'impractical': 2273, 'night': 3076, 'frighten': 1827, 'joke': 2490, 'friendly': 1823, 'westerner': 5061, 'legacy': 2620, 'danger': 1079, 'strop': 4414, 'ruffle': 3899, 'air': 108, 'inflate': 2320, 'exaggerate': 1554, 'open': 3168, 'invite': 2413, 'ministry': 2893, 'participate': 3274, 'welcome': 5057, 'hide': 2131, 'disappointment': 1243, 'doubtful': 1327, 'hard': 2055, 'swing': 4518, 'sudden': 4453, 'outburst': 3195, 'low': 2736, 'emo': 1440, 'description': 1171, 'th': 4614, 'admin': 61, 'probably': 3527, 'talkative': 4545, 'intense': 2377, 'actually': 53, 'avoid': 316, 'call': 621, 'ability': 6, 'artistic': 253, 'special': 4285, 'attractive': 300, 'unleash': 4857, 'fromthe': 1832, 'virgin': 4969, 'talente': 4542, 'bake': 348, 'snake': 4204, 'confess': 889, 'easily': 1387, 'tension': 4596, 'permeate': 3329, 'calm': 624, 'suitably': 4464, 'panel': 3250, 'recipe': 3696, 'previously': 3509, 'deem': 1115, 'unworthy': 4882, 'vent': 4933, 'hostile': 2183, 'red': 3711, 'window': 5104, 'inside': 2347, 'resonate': 3815, 'uncaring': 4810, 'exist': 1583, 'follow': 1768, 'haze': 2081, 'incapable': 2283, 'seriously': 4040, 'withdraw': 5117, 'emotionally': 1444, 'peace': 3304, 'party': 3279, 'acceptance': 23, 'trouble': 4760, 'misery': 2901, 'cheat': 711, 'spurn': 4324, 'vine': 4960, 'tend': 4589, 'nurse': 3110, 'ya': 5175, 'allah': 125, 'puff': 3585, 'super': 4474, 'bicep': 442, 'left': 2618, 'arm': 238, 'shape': 4065, 'reactive': 3674, 'wronged': 5160, 'universe': 4851, 'useful': 4900, 'product': 3537, 'food': 1770, 'exciting': 1568, 'kitchen': 2548, 'endeavor': 1461, 'occasional': 3132, 'musing': 2987, 'anguish': 176, 'assault': 268, 'rape': 3658, 'systematically': 4529, 'assassinate': 267, 'makeup': 2768, 'choose': 739, 'clear': 771, 'mind': 2890, 'execute': 1573, 'wonderful': 5126, 'breath': 545, 'neck': 3033, 'whisper': 5075, 'hertha': 2123, 'pound': 3462, 'fantastic': 1642, 'shock': 4089, 'husband': 2216, 'caregiver': 650, 'till': 4661, 'say': 3956, 'wanna': 5009, 'consistently': 912, 'disengage': 1257, 'zest': 5204, 'eat': 1390, 'despite': 1182, 'atheism': 285, 'fail': 1623, 'fairy': 1627, 'light': 2658, 'bed': 402, 'virtual': 4971, 'silence': 4131, 'spiteful': 4308, 'joyful': 2501, 'laughter': 2594, 'remain': 3769, 'weigh': 5051, 'heavy': 2105, 'negative': 3038, 'struggle': 4417, 'move': 2961, 'email': 1432, 'author': 309, 'interview': 2396, 'amused': 158, 'socially': 4230, 'acceptable': 22, 'allow': 129, 'traditional': 4711, 'view': 4952, 'll': 2691, 'stand': 4344, 'saturday': 3951, 'bright': 552, 'outdoors': 3197, 'friday': 1820, 'wallow': 5005, 'pity': 3386, 'stare': 4348, 'blank': 472, 'computer': 872, 'screen': 3983, 'scratch': 3981, 'drink': 1346, 'pot': 3457, 'coffee': 807, 'triumphant': 4755, 'sentence': 4029, 'usually': 4905, 'consist': 910, 'poop': 3434, 'obligation': 3122, 'duty': 1371, 'expectation': 1588, 'intuition': 2404, 'guide': 2013, 'actual': 52, 'whoop': 5082, 'holler': 2144, 'jubilant': 2504, 'tad': 4532, 'constipate': 917, 'yhhhay': 5187, 'sound': 4268, 'haha': 2030, 'comfortable': 834, 'spoil': 4314, 'dorm': 1322, 'inspect': 2353, 'clean': 768, 'pack': 3235, 'typically': 4793, 'respond': 3820, 'highly': 2134, 'male': 2770, 'baby': 332, 'contemplate': 928, 'terpene': 4600, 'flavour': 1732, 'creature': 1019, 'evaluate': 1533, 'york': 5193, 'city': 754, 'lucky': 2742, 'portland': 3444, 'land': 2579, 'delicious': 1141, 'betray': 437, 'law': 2599, 'protect': 3566, 'feed': 1672, 'getting': 1914, 'bite': 459, 'foundation': 1794, 'core': 957, 'zombie': 5207, 'lock': 2699, 'punch': 3591, 'brother': 566, 'grandparent': 1976, 'push': 3602, 'limit': 2668, 'privileged': 3524, 'lily': 2667, 'uglier': 4795, 'deformed': 1133, 'awkward': 327, 'means': 2829, 'extra': 1607, 'clothe': 790, 'terrify': 4605, 'intelligent': 2375, 'teacher': 4567, 'nail': 3000, 'concoction': 882, 'soak': 4223, 'pale': 3246, 'bod': 499, 'fake': 1631, 'browness': 570, 'winter': 5109, 'ranbir': 3652, 'director': 1234, 'ayan': 330, 'mukerji': 2972, 'filmfare': 1703, 'visit': 4976, 'ller': 2692, 'expensive': 1590, 'assistant': 276, 'steal': 4362, 'shopping': 4099, 'stiff': 4373, 'ashton': 260, 'isaac': 2432, 'pro': 3526, 'active': 46, 'award': 319, 'random': 3653, 'suddenly': 4454, 'tick': 4655, 'keyboard': 2532, 'spill': 4299, 'customer': 1059, 'maze': 2821, 'completely': 865, 'un': 4803, 'sarcastic': 3944, 'exam': 1555, 'sink': 4145, 'flip': 1744, 'flop': 1750, 'unsafe': 4869, 'bold': 505, 'print': 3516, 'odd': 3139, 'timid': 4666, 'leopard': 2631, 'claim': 756, 'redeem': 3714, 'genre': 1902, 'entirely': 1497, 'wall': 5003, 'sister': 4149, 'shout': 4107, 'cousin': 989, 'playoff': 3401, 'wing': 5106, 'ruslan': 3909, 'fedotenko': 1669, 'note': 3097, 'challenge': 690, 'value': 4921, 'drive': 1348, 'news': 3063, 'trillion': 4750, 'tattoo': 4560, 'peggy': 3311, 'mara': 2788, 'disgusted': 1260, 'disdainful': 1256, 'disappoint': 1241, 'behavior': 412, 'fabulous': 1616, 'draft': 1334, 'awhile': 326, 'rest': 3824, 'unreasonable': 4866, 'lend': 2627, 'book': 513, 'scissor': 3977, 'comforting': 835, 'draw': 1340, 'trusty': 4765, 'louche': 2726, 'animal': 177, 'eid': 1416, 'gift': 1917, 'territory': 4606, 'ignore': 2244, 'part': 3271, 'constitution': 918, 'create': 1013, 'constitutional': 919, 'bureaucracy': 596, 'threatened': 4641, 'concerned': 877, 'instinctively': 2363, 'speak': 4284, 'passer': 3281, 'approach': 228, 'victim': 4947, 'system': 4528, 'leare': 2612, 'depth': 1166, 'snowglobe': 4222, 'fly': 1760, 'immature': 2254, 'greg': 1988, 'yuuki': 5199, 'nearly': 3030, 'bike': 445, 'traffic': 4712, 'satisfied': 3950, 'standing': 4346, 'gender': 1890, 'speech': 4289, 'uplifting': 4888, 'prop': 3560, 'graduate': 1970, 'distress': 1291, 'empathy': 1445, 'america': 149, 'romcom': 3880, 'maybe': 2820, 'lately': 2590, 'unhappy': 4845, 'member': 2854, 'staff': 4337, 'aggressive': 95, 'final': 1704, 'individual': 2307, 'attitude': 298, 'patronize': 3294, 'restaurant': 3825, 'muay': 2967, 'agony': 100, 'slow': 4184, 'pace': 3233, 'browse': 571, 'booth': 516, 'dart': 1087, 'shop': 4097, 'main': 2763, 'cottage': 972, 'rustling': 3913, 'honor': 2162, 'remarkable': 3771, 'grader': 1968, 'accomplish': 30, 'influence': 2321, 'process': 3530, 'hell': 2114, 'mellow': 2851, 'bully': 587, 'trailer': 4715, 'nostalgic': 3095, 'rediculous': 3716, 'justify': 2514, 'cancer': 631, 'lifestyle': 2655, 'pleasure': 3407, 'sky': 4163, 'roof': 3881, 'ground': 2000, 'table': 4531, 'wild': 5092, 'native': 3017, 'habit': 2025, 'unworthiness': 4881, 'coming': 838, 'yes': 5185, 'sin': 4138, 'smoke': 4198, 'consolidate': 913, 'step': 4368, 'purpose': 3599, 'provide': 3574, 'vicarious': 4944, 'sarcasm': 3943, 'xox': 5173, 'flawless': 1734, 'damn': 1075, 'relieved': 3763, 'qualified': 3609, 'venue': 4934, 'observation': 3125, 'shower': 4110, 'bsc': 576, 'loop': 2716, 'ally': 130, 'club': 794, 'marvellous': 2802, 'prank': 3477, 'plead': 3403, 'vey': 4940, 'oncology': 3163, 'dpt': 1333, 'hospital': 2181, 'paranoiud': 3263, 'chemo': 719, 'bonding': 508, 'wardrode': 5015, 'argument': 237, 'dear': 1102, 'backdrop': 334, 'examine': 1556, 'adventure': 75, 'material': 2815, 'immediately': 2256, 'emerge': 1437, 'phenomenon': 3351, 'tolerate': 4686, 'noise': 3082, 'shadow': 4056, 'rich': 3846, 'mary': 2803, 'anne': 181, 'shockingly': 4090, 'queezy': 3616, 'order': 3183, 'sentimental': 4030, 'destiny': 1185, 'upcoming': 4886, 'drown': 1354, 'town': 4706, 'andover': 164, 'absolutely': 14, 'determined': 1191, 'definately': 1126, 'refuse': 3730, 'lestat': 2637, 'starve': 4353, 'ethiopia': 1527, 'tv': 4783, 'suffering': 4457, 'kim': 2541, 'kardashion': 2519, 'tutorial': 4782, 'squeeze': 4330, 'lethargic': 2639, 'record': 3705, 'realization': 3683, 'admit': 66, 'hubby': 2195, 'join': 2489, 'directly': 1233, 'worthy': 5146, 'lush': 2753, 'easy': 1389, 'lie': 2651, 'burmeister': 598, 'running': 3904, 'training': 4718, 'date': 1090, 'non': 3084, 'existent': 1585, 'dizzy': 1302, 'exercise': 1576, 'loss': 2722, 'throat': 4645, 'infection': 2317, 'infuriate': 2325, 'expressive': 1603, 'teenager': 4579, 'jade': 2458, 'course': 985, 'extent': 1605, 'favour': 1661, 'resent': 3806, 'needlessly': 3037, 'unreasonably': 4867, 'slight': 4173, 'idiosyncrasy': 2238, 'exactly': 1553, 'pulse': 3587, 'series': 4037, 'warm': 5017, 'completeness': 866, 'sober': 4225, 'puzzle': 3606, 'improve': 2278, 'motor': 2954, 'skill': 4157, 'teach': 4566, 'set': 4045, 'instruction': 2365, 'snack': 4202, 'music': 2983, 'continue': 934, 'flexy': 1738, 'shoe': 4091, 'sweat': 4506, 'foundry': 1795, 'childhood': 728, 'humor': 2208, 'shield': 4078, 'bay': 388, 'conceal': 873, 'appearance': 219, 'truth': 4766, 'wherewithal': 5067, 'neutral': 3057, 'vienna': 4951, 'horrible': 2176, 'hair': 2031, 'immedietly': 2257, 'wal': 4999, 'mart': 2800, 'box': 531, 'brown': 569, 'unfortunately': 4841, 'aftermath': 90, 'holiday': 2142, 'dew': 1202, 'showing': 4111, 'south': 4272, 'encourage': 1458, 'level': 2642, 'advancement': 73, 'react': 3672, 'winston': 5108, 'churchill': 748, 'www': 5165, 'broken': 561, 'handrail': 2045, 'basement': 375, 'stair': 4341, 'aout': 202, 'road': 3867, 'initially': 2332, 'turn': 4779, 'stuff': 4424, 'gluten': 1943, 'free': 1809, 'mediocre': 2841, 'wedding': 5044, 'cake': 615, 'source': 4271, 'apathy': 206, 'act': 44, 'introduce': 2402, 'sponsor': 4316, 'nightmare': 3078, 'sample': 3933, 'writing': 5158, 'deny': 1157, 'generous': 1901, 'taste': 4555, 'sketch': 4156, 'protective': 3568, 'military': 2884, 'definitely': 1130, 'disbelief': 1244, 'mourn': 2957, 'lost': 2723, 'relate': 3748, 'rough': 3889, 'got': 1961, 'jump': 2509, 'cross': 1029, 'beam': 393, 'metre': 2872, 'clairee': 757, 'produce': 3535, 'roller': 3877, 'coaster': 802, 'craziness': 1009, 'throne': 4647, 'lady': 2572, 'downright': 1331, 'furious': 1856, 'heinous': 2112, 'paper': 3256, 'wife': 5089, 'annulment': 187, 'case': 657, 'rely': 3768, 'entirelly': 1496, 'aggravate': 94, 'bizarre': 462, 'assumption': 280, 'barely': 371, 'likelihood': 2663, 'regular': 3737, 'bud': 581, 'request': 3800, 'funny': 1855, 'female': 1683, 'fiction': 1692, 'busy': 604, 'fast': 1650, 'thinking': 4633, 'timing': 4667, 'story': 4388, 'collective': 817, 'conversation': 941, 'critical': 1027, 'increasingly': 2296, 'unsettled': 4871, 'disconnect': 1249, 'overconfident': 3214, 'lively': 2688, 'dorama': 1319, 'mild': 2880, 'yesterday': 5186, 'bothersome': 524, 'ball': 353, 'inspiration': 2354, 'hellip': 2115, 'shooter': 4095, 'shirt': 4084, 'support': 4480, 'edge': 1401, 'precipice': 3482, 'recless': 3700, 'mamma': 2772, 'headlock': 2086, 'whooooo': 5080, 'crack': 998, 'whooooooooo': 5081, 'craaaaaaack': 997, 'great': 1983, 'patient': 3292, 'limited': 2670, 'current': 1054, 'arrangment': 242, 'resolve': 3813, 'dissipate': 1281, 'emotion': 1442, 'powerless': 3467, 'resolution': 3812, 'curriculum': 1056, 'enjoyable': 1479, 'interesting': 2387, 'pupil': 3595, 'femme': 1685, 'fatale': 1653, 'cute': 1061, 'obvious': 3129, 'britney': 557, 'burn': 599, 'impression': 2274, 'force': 1778, 'career': 647, 'quietly': 3624, 'ecstatic': 1399, 'painless': 3243, 'grocery': 1996, 'expense': 1589, 'soul': 4265, 'zack': 5200, 'relative': 3751, 'politely': 3426, 'oomph': 3166, 'dead': 1098, 'motivated': 2952, 'workout': 5136, 'beneath': 428, 'wobbly': 5121, 'tech': 4572, 'hyper': 2220, 'asset': 273, 'bogge': 503, 'upload': 4889, 'link': 2674, 'previous': 3508, 'condition': 884, 'normally': 3091, 'package': 3236, 'waitrose': 4997, 'parking': 3270, 'buy': 609, 'nerve': 3047, 'default': 1119, 'realise': 3680, 'harden': 2058, 'foreboding': 1779, 'yeah': 5179, 'mix': 2913, 'space': 4275, 'honored': 2163, 'derek': 1168, 'mediate': 2836, 'ex': 1551, 'manipulate': 2779, 'pirate': 3382, 'landlubber': 2580, 'plane': 3390, 'thin': 4630, 'shaving': 4072, 'wood': 5128, 'precision': 3484, 'specifically': 4288, 'dictate': 1210, 'med': 2834, 'necessary': 3032, 'reduce': 3717, 'risk': 3864, 'etc': 1524, 'doubt': 1326, 'stomach': 4383, 'clench': 774, 'race': 3635, 'couldn': 975, 'tugging': 4775, 'loathe': 2694, 'gamer': 1871, 'molyneux': 2926, 'add': 55, 'terribly': 4602, 'hum': 2200, 'warmth': 5020, 'leg': 2619, 'flirty': 1747, 'playful': 3400, 'sexy': 4054, 'reckless': 3699, 'racial': 3636, 'religious': 3765, 'slur': 4187, 'aim': 106, 'personally': 3338, 'forward': 1793, 'plateau': 3396, 'wardrobe': 5014, 'style': 4431, 'language': 2581, 'generally': 1895, 'confuse': 896, 'relationship': 3750, 'knowledge': 2560, 'equivalent': 1512, 'apart': 203, 'unable': 4804, 'notice': 3099, 'prone': 3557, 'intentionality': 2381, 'partner': 3278, 'obviously': 3130, 'ccs': 671, 'anipike': 179, 'website': 5043, 'fanfiction': 1640, 'offense': 3144, 'frightening': 1829, 'frightful': 1830, 'vulnerability': 4991, 'mercy': 2861, 'seat': 3991, 'fill': 1701, 'glimpse': 1935, 'vibrant': 4942, 'enthusiasm': 1493, 'abandon': 1, 'reality': 3682, 'kid': 2537, 'hop': 2168, 'elliptical': 1427, 'spin': 4300, 'settle': 4047, 'beautiful': 398, 'maggie': 2758, 'lee': 2616, 'poem': 3415, 'title': 4678, 'vol': 4984, 'finality': 1705, 'financial': 1708, 'repercussion': 3790, 'polish': 3425, 'jack': 2454, 'irate': 2419, 'hat': 2069, 'san': 3935, 'fully': 1849, 'petrified': 3345, 'therapy': 4625, 'century': 679, 'afternoon': 91, 'quick': 3621, 'boob': 512, 'hang': 2048, 'plenty': 3408, 'knitting': 2555, 'stitching': 4381, 'atm': 289, 'demand': 1146, 'beloved': 425, 'dance': 1077, 'drum': 1356, 'solidarity': 4242, 'americans': 151, 'blood': 491, 'iraq': 2418, 'prisoner': 3520, 'stripping': 4408, 'bill': 446, 'verge': 4936, 'weariness': 5039, 'tenderly': 4592, 'kiss': 2547, 'cheek': 714, 'count': 980, 'cut': 1060, 'comfort': 833, 'solitude': 4243, 'meditation': 2843, 'include': 2288, 'increase': 2295, 'horribly': 2177, 'adventurous': 76, 'appeal': 217, 'slide': 4172, 'significant': 4129, 'sigh': 4126, 'describe': 1170, 'interested': 2386, 'contented': 930, 'accomplishment': 31, 'harrass': 2064, 'oppress': 3177, 'utterly': 4911, 'soulmate': 4267, 'chemistry': 718, 'unlike': 4858, 'connection': 901, 'human': 2201, 'md': 2825, 'teen': 4577, 'guidance': 2012, 'discontent': 1251, 'sacrifice': 3917, 'resident': 3810, 'neglect': 3040, 'undeservedly': 4826, 'harm': 2062, 'belong': 423, 'taunt': 4561, 'weakness': 5036, 'frailty': 1799, 'exterior': 1606, 'existance': 1584, 'masculinity': 2805, 'potential': 3459, 'headache': 2083, 'cooperation': 951, 'melt': 2852, 'down': 1329, 'mishap': 2903, 'toddler': 4682, 'sneakily': 4209, 'mas': 2804, 'october': 3138, 'prance': 3476, 'eartha': 1384, 'kitt': 2550, 'version': 4938, 'santa': 3940, 'blare': 473, 'ipod': 2417, 'carby': 643, 'glycemic': 1944, 'meal': 2826, 'dessert': 1184, 'lazy': 2606, 'bandaid': 360, 'better': 438, 'morally': 2942, 'scenario': 3965, 'connect': 900, 'prolonged': 3551, 'sex': 4051, 'tinge': 4668, 'sox': 4273, 'tampa': 4546, 'devil': 1196, 'ray': 3668, 'peer': 3310, 'stagnate': 4340, 'majorly': 2766, 'cast': 659, 'alternate': 136, 'timeline': 4663, 'stuck': 4420, 'entire': 1495, 'conflict': 892, 'rid': 3847, 'terrific': 4603, 'medical': 2838, 'ing': 2326, 'psyched': 3578, 'hopefully': 2171, 'extension': 1604, 'horror': 2179, 'sexual': 4052, 'petrona': 3347, 'perform': 3323, 'profit': 3544, 'vital': 4978, 'squeal': 4329, 'glee': 1934, 'mud': 2970, 'squish': 4332, 'toe': 4683, 'inhibited': 2329, 'shush': 4113, 'arrive': 244, 'defend': 1121, 'casual': 660, 'code': 805, 'fanatic': 1638, 'lol': 2703, 'curl': 1053, 'pavement': 3298, 'spring': 4320, 'bashful': 376, 'teasing': 4571, 'scrutiny': 3987, 'charm': 703, 'chapter': 698, 'bruce': 573, 'yiling': 5188, 'properly': 3562, 'thank': 4616, 'considerate': 908, 'reading': 3677, 'heartbroken': 2096, 'regret': 3736, 'johann': 2488, 'accompany': 29, 'khartoum': 2533, 'descara': 1169, 'flighty': 1742, 'callous': 623, 'cheap': 710, 'unfaithful': 4836, 'strongly': 4413, 'condone': 885, 'method': 2871, 'achieve': 41, 'goal': 1948, 'injustice': 2336, 'rise': 3862, 'wholly': 5079, 'darling': 1085, 'back': 333, 'crim': 1024, 'hefty': 2109, 'weighting': 5053, 'bucket': 580, 'razor': 3669, 'blade': 467, 'zhu': 5205, 'snapback': 4206, 'safety': 3923, 'green': 1986, 'lotus': 2725, 'temple': 4586, 'wholesale': 5078, 'obey': 3118, 'mediation': 2837, 'freely': 1811, 'inevitably': 2315, 'expose': 1600, 'building': 585, 'adoption': 68, 'persom': 3332, 'wickdly': 5085, 'faithful': 1629, 'ought': 3194, 'wee': 5046, 'backward': 338, 'internet': 2390, 'cramp': 1000, 'plus': 3413, 'ache': 39, 'fulfil': 1844, 'emptied': 1451, 'feelin': 1677, 'childish': 729, 'address': 58, 'singapore': 4142, 'depressed': 1164, 'sloth': 4182, 'altitude': 137, 'luckily': 2741, 'manage': 2774, 'offline': 3150, 'chief': 726, 'ccw': 672, 'yank': 5176, 'lure': 2750, 'champagne': 693, 'brilliant': 553, 'bestselle': 435, 'kathy': 2524, 'lette': 2640, 'genuinely': 1906, 'empower': 1450, 'photo': 3355, 'ge': 1886, 'frickin': 1819, 'loose': 2717, 'importantly': 2268, 'awfully': 325, 'pumpin': 3590, 'tasty': 4557, 'goodness': 1956, 'abound': 10, 'cruz': 1043, 'unseen': 4870, 'ambient': 143, 'swear': 4505, 'lay': 2602, 'university': 4852, 'california': 620, 'renowne': 3785, 'chicken': 725, 'km': 2551, 'tape': 4550, 'skirt': 4162, 'tax': 4562, 'mail': 2760, 'jason': 2466, 'employer': 1448, 'effect': 1406, 'surgery': 4491, 'grudge': 2005, 'someway': 4250, 'chemotherapy': 720, 'annoying': 185, 'pinch': 3374, 'niggle': 3074, 'poetry': 3417, 'bi': 441, 'organization': 3188, 'living': 2689, 'journey': 2499, 'public': 3581, 'transportation': 4731, 'bar': 368, 'daddy': 1071, 'uncle': 4812, 'extreme': 1609, 'spazze': 4283, 'fridge': 1821, 'lense': 2629, 'appreciative': 226, 'pinnacle': 3377, 'materialistic': 2816, 'possession': 3451, 'rock': 3872, 'yell': 5183, 'drop': 1352, 'possess': 3450, 'smarter': 4191, 'rounded': 3891, 'enthusiastic': 1494, 'having': 2079, 'overtly': 3221, 'pretend': 3505, 'deep': 1116, 'ridiculous': 3851, 'yeast': 5182, 'vagina': 4913, 'diet': 1213, 'sugary': 4460, 'ultimately': 4801, 'beholder': 413, 'compliment': 868, 'statement': 4357, 'kick': 2536, 'wet': 5062, 'surface': 4489, 'early': 1380, 'stroke': 4410, 'ass': 266, 'pool': 3433, 'possibly': 3454, 'colourful': 824, 'phrase': 3358, 'tip': 4670, 'tongue': 4690, 'heave': 2101, 'musical': 2984, 'wander': 5008, 'techno': 4575, 'slander': 4165, 'glow': 1941, 'pride': 3512, 'ugly': 4797, 'pink': 3376, 'black': 463, 'to': 4679, 'frequency': 1812, 'lounge': 2731, 'encounter': 1457, 'claustrophobic': 765, 'intuitive': 2405, 'nauseous': 3024, 'info': 2322, 'impotent': 2271, 'porcupine': 3439, 'wheat': 5065, 'junior': 2510, 'bunk': 592, 'lifetime': 2656, 'fandom': 1639, 'build': 584, 'vip': 4968, 'sticker': 4372, 'choir': 738, 'badly': 342, 'sob': 4224, 'despise': 1181, 'crumble': 1038, 'coz': 994, 'intentional': 2380, 'ungrateful': 4843, 'inconsiderate': 2291, 'kinda': 2543, 'joshua': 2495, 'instantly': 2359, 'handbag': 2040, 'sachaye': 3915, 'obsess': 3126, 'store': 4386, 'cognize': 809, 'disregard': 1274, 'jesus': 2480, 'cosmo': 968, 'years': 5181, 'false': 1633, 'unprotected': 4864, 'organise': 3187, 'etape': 1523, 'prep': 3492, 'ride': 3848, 'caledonia': 617, 'depress': 1163, 'affair': 82, 'disgust': 1259, 'indulgence': 2311, 'audacity': 303, 'british': 556, 'failure': 1624, 'valued': 4922, 'reflect': 3724, 'guilty': 2015, 'blessing': 479, 'recognition': 3702, 'appear': 218, 'gag': 1864, 'sorry': 4263, 'fortunate': 1791, 'mexican': 2873, 'appal': 213, 'wide': 5087, 'lenghth': 2628, 'measure': 2831, 'pp': 3468, 'kyuhyun': 2564, 'crowd': 1033, 'stroll': 4411, 'apgujeong': 209, 'hyunjin': 2227, 'breathe': 546, 'sceptical': 3969, 'elevated': 1426, 'lexicon': 2643, 'floor': 1749, 'pay': 3299, 'debt': 1106, 'devotee': 1201, 'eagerly': 1377, 'andri': 166, 'abroad': 11, 'witness': 5119, 'sadistic': 3920, 'concert': 878, 'seek': 4003, 'conscience': 902, 'optimism': 3178, 'youth': 5196, 'refusal': 3729, 'fate': 1654, 'energized': 1470, 'neurotic': 3056, 'amazingly': 141, 'chill': 731, 'ativan': 288, 'actively': 47, 'borne': 520, 'associate': 277, 'peaceful': 3305, 'boss': 521, 'mommyhood': 2931, 'inability': 2280, 'breastfeed': 544, 'being': 415, 'daily': 1072, 'opinionated': 3173, 'fulfilled': 1846, 'legality': 2621, 'tatter': 4559, 'message': 2867, 'campaign': 628, 'subject': 4435, 'repay': 3788, 'simultaneously': 4137, 'superior': 4476, 'inferior': 2318, 'flirt': 1745, 'em': 1431, 'identify': 2235, 'strike': 4406, 'regardless': 3733, 'hopelessly': 2173, 'attract': 299, 'everyday': 1543, 'mirror': 2897, 'nd': 3027, 'attempt': 294, 'vlog': 4981, 'dawn': 1093, 'treader': 4737, 'fairly': 1626, 'hardcover': 2057, 'japanese': 2464, 'luke': 2746, 'millennia': 2887, 'brainstorm': 536, 'particular': 3275, 'vice': 4945, 'burst': 600, 'bird': 452, 'relentlessly': 3759, 'encode': 1456, 'utf': 4908, 'locale': 2698, 'en': 1453, 'isprivate': 2441, 'ismobile': 2436, 'mobileclass': 2918, 'isprivateblog': 2442, 'languagedirection': 2582, 'ltr': 2740, 'feedlink': 1675, 'rel': 3747, 'application': 221, 'atom': 291, 'xml': 5172, 'ovation': 3209, 'closet': 787, 'apartment': 204, 'somebody': 4247, 'zealand': 5203, 'overseas': 3220, 'exhilarate': 1580, 'scenery': 3967, 'disappear': 1240, 'meantime': 2830, 'sweetness': 4512, 'recess': 3695, 'quickly': 3622, 'relegate': 3757, 'unnecessary': 4861, 'oncologist': 3162, 'pe': 3302, 'vanquish': 4923, 'england': 1474, 'similar': 4134, 'die': 1212, 'likely': 2664, 'unavoidably': 4807, 'shortcoming': 4101, 'runner': 3903, 'ken': 2530, 'surround': 4496, 'mundane': 2978, 'paperwork': 3257, 'bureaucrat': 597, 'revel': 3837, 'valid': 4918, 'complaint': 863, 'aspect': 265, 'subjective': 4436, 'base': 374, 'dumpee': 1365, 'slighted': 4174, 'bunch': 590, 'stem': 4366, 'rejection': 3745, 'replacement': 3792, 'complacent': 861, 'invitation': 2412, 'vile': 4956, 'brood': 563, 'gnaw': 1946, 'secret': 3995, 'obnoxious': 3124, 'mentality': 2857, 'enmayi': 1482, 'possibility': 3452, 'command': 839, 'card': 644, 'classmate': 763, 'homework': 2156, 'merit': 2863, 'grade': 1967, 'humility': 2206, 'hypocritical': 2225, 'disgusting': 1261, 'nellie': 3043, 'rang': 3655, 'leslie': 2633, 'bored': 518, 'plot': 3410, 'reader': 3676, 'owen': 3230, 'morgan': 2943, 'undertaking': 4823, 'realistic': 3681, 'gets': 1913, 'snow': 4220, 'globe': 1938, 'dust': 1370, 'celebrate': 673, 'anniversary': 182, 'difficult': 1218, 'sensational': 4024, 'ash': 258, 'stench': 4367, 'greasy': 1982, 'basic': 377, 'mode': 2919, 'registration': 3735, 'uneventful': 4831, 'indigo': 2306, 'abdoman': 4, 'pelvis': 3312, 'fabric': 1615, 'assume': 279, 'water': 5031, 'frozen': 1834, 'eschew': 1517, 'favor': 1658, 'forage': 1777, 'seize': 4008, 'audience': 304, 'bathroom': 384, 'automatically': 312, 'trope': 4758, 'sarah': 3942, 'tortured': 4697, 'sewing': 4050, 'machine': 2755, 'printer': 3517, 'rainbow': 3645, 'vein': 4932, 'alway': 139, 'elusively': 1430, 'symbol': 4521, 'factory': 1621, 'butchery': 605, 'disappointed': 1242, 'tough': 4703, 'mudder': 2971, 'rip': 3860, 'planet': 3391, 'pea': 3303, 'prove': 3573, 'educate': 1404, 'matty': 2819, 'module': 2923, 'frustrate': 1836, 'fellow': 1680, 'student': 4421, 'interact': 2383, 'definite': 1129, 'development': 1195, 'slough': 4183, 'carapace': 641, 'crud': 1036, 'envelop': 1501, 'thirty': 4634, 'okay': 3155, 'elevate': 1425, 'thyroid': 4652, 'hormone': 2175, 'metabolism': 2869, 'range': 3656, 'hyperthyroidism': 2222, 'healthy': 2092, 'presentation': 3498, 'daydream': 1095, 'bet': 436, 'costume': 971, 'scott': 3980, 'dale': 1073, 'frusterate': 1835, 'alignment': 122, 'tranny': 4721, 'blake': 469, 'radiant': 3638, 'emanating': 1433, 'naked': 3002, 'longingly': 2711, 'probe': 3528, 'hardness': 2060, 'tether': 4611, 'splendid': 4310, 'sniffle': 4211, 'itchy': 2446, 'total': 4699, 'yay': 5178, 'blender': 476, 'butter': 607, 'firefly': 1716, 'serenity': 4036, 'mixed': 2914, 'wryly': 5162, 'banal': 357, 'comedy': 832, 'error': 1514, 'pie': 3368, 'crust': 1042, 'clue': 795, 'unfairness': 4835, 'favorable': 1659, 'starter': 4350, 'ton': 4689, 'program': 3546, 'gfather': 1915, 'ute': 4907, 'load': 2693, 'prefer': 3488, 'manure': 2785, 'compost': 869, 'impostor': 2270, 'else': 1428, 'rotten': 3886, 'cam': 625, 'newton': 3065, 'panther': 3254, 'prime': 3514, 'wrap': 5151, 'mark': 2794, 'temper': 4583, 'guilt': 2014, 'boat': 498, 'denmark': 1152, 'son': 4252, 'segregate': 4007, 'action': 45, 'hurtful': 2215, 'hero': 2122, 'private': 3523, 'nudist': 3107, 'suit': 4463, 'convention': 940, 'test': 4610, 'oscar': 3192, 'denounce': 1154, 'grotesque': 1998, 'unrealistic': 4865, 'adress': 69, 'intentionally': 2382, 'wimpy': 5100, 'pm': 3414, 'linda': 2671, 'reminder': 3777, 'affirmation': 86, 'lessen': 2634, 'apply': 222, 'log': 2701, 'church': 747, 'pregnant': 3491, 'impressive': 2276, 'direct': 1231, 'distraction': 1289, 'sams': 3934, 'hiding': 2132, 'pen': 3313, 'digress': 1223, 'strategy': 4396, 'match': 2813, 'monroe': 2936, 'launch': 2595, 'incorporate': 2293, 'sand': 3936, 'homeschooling': 2153, 'dubai': 1359, 'crappy': 1004, 'pic': 3363, 'nonsense': 3087, 'overwhelming': 3227, 'occassionally': 3134, 'earring': 1382, 'plug': 3411, 'silly': 4132, 'roll': 3876, 'manuscript': 2786, 'report': 3795, 'fellowship': 1681, 'research': 3805, 'requirement': 3802, 'officer': 3148, 'krupke': 2563, 'idiot': 2239, 'accident': 26, 'horrid': 2178, 'succumb': 4449, 'insecurity': 2346, 'thankfully': 4618, 'plant': 3394, 'double': 1325, 'victory': 4949, 'struff': 4416, 'fedtastic': 1671, 'tennis': 4594, 'obligate': 3120, 'sensitive': 4028, 'stable': 4336, 'document': 1307, 'soda': 4234, 'fascinated': 1646, 'impolite': 2265, 'katanya': 2522, 'eighteen': 1417, 'hey': 2127, 'up': 4884, 'sell': 4017, 'stagger': 4339, 'upstairs': 4894, 'twisted': 4787, 'allocate': 128, 'penny': 3316, 'lurk': 2751, 'bank': 363, 'account': 34, 'embrace': 1436, 'emoticon': 1441, 'oppose': 3175, 'xd': 5169, 'feels': 1679, 'eternity': 1526, 'nuclear': 3106, 'weapon': 5037, 'protest': 3570, 'riot': 3859, 'police': 3423, 'response': 3821, 'indication': 2305, 'personality': 3336, 'petrify': 3346, 'everything': 1545, 'co': 800, 'worker': 5133, 'mistake': 2908, 'clearly': 773, 'sight': 4127, 'poll': 3430, 'nonchalant': 3085, 'easi': 1386, 'unwanted': 4877, 'flirtie': 1746, 'insincere': 2350, 'miserable': 2900, 'virtuous': 4972, 'socket': 4233, 'beirut': 416, 'nagging': 2998, 'olympic': 3158, 'shoeless': 4093, 'stiller': 4375, 'vaughn': 4927, 'hater': 2074, 'enjoyment': 1480, 'performance': 3324, 'simple': 4135, 'startle': 4351, 'overtone': 3222, 'ink': 2337, 'comparatively': 854, 'overwhelm': 3225, 'kingdom': 2546, 'enviously': 1504, 'randomly': 3654, 'bang': 361, 'lick': 2650, 'lollypop': 2704, 'glue': 1942, 'hollow': 2145, 'smith': 4197, 'marvel': 2801, 'humble': 2203, 'artistry': 254, 'interrupt': 2393, 'joseph': 2494, 'walt': 5007, 'science': 3976, 'veer': 4930, 'stereotype': 4370, 'defeat': 1120, 'uneasy': 4830, 'stupidly': 4430, 'eagle': 1378, 'dangerously': 1081, 'garage': 1875, 'scheduler': 3972, 'massive': 2809, 'repairman': 3787, 'overhear': 3216, 'tune': 4776, 'ringtone': 3858, 'mindful': 2891, 'experiment': 1592, 'bothered': 523, 'fundamentally': 1852, 'selection': 4012, 'democratic': 1147, 'obligated': 3121, 'invigorate': 2410, 'preservation': 3499, 'justification': 2513, 'survive': 4498, 'bedroom': 403, 'specially': 4286, 'picture': 3367, 'hardly': 2059, 'copy': 956, 'handsome': 2046, 'stillness': 4376, 'haul': 2076, 'lava': 2597, 'export': 1599, 'port': 3441, 'contribute': 937, 'jonese': 2493, 'ibs': 2229, 'bowel': 530, 'syndrome': 4526, 'crake': 999, 'afrade': 87, 'affect': 84, 'trauma': 4734, 'remorse': 3780, 'corinthian': 958, 'skinny': 4160, 'seemingly': 4005, 'disposable': 1273, 'income': 2289, 'mall': 2771, 'lathi': 2592, 'fps': 1796, 'mentally': 2858, 'switch': 4519, 'brain': 535, 'seven': 4048, 'unmotivated': 4859, 'irrationally': 2425, 'batting': 386, 'player': 3399, 'gloss': 1940, 'combine': 828, 'flat': 1726, 'tire': 4672, 'wound': 5148, 'headless': 2085, 'hu': 2194, 'jia': 2483, 'sara': 3941, 'div': 1296, 'clearboth': 772, 'padding': 3237, 'tale': 4540, 'versus': 4939, 'evil': 1548, 'rex': 3844, 'dingler': 1227, 'currently': 1055, 'lest': 2636, 'ringing': 3857, 'plain': 3388, 'tank': 4549, 'bottom': 526, 'zara': 5202, 'thoroughly': 4636, 'jacket': 2455, 'vibe': 4941, 'mesh': 2865, 'proclaim': 3533, 'sanity': 3939, 'perfume': 3325, 'rupee': 3906, 'irritation': 2431, 'inquire': 2341, 'incheswhyinche': 2285, 'relocate': 3766, 'drove': 1353, 'shoulder': 4105, 'nation': 3015, 'specific': 4287, 'appalled': 214, 'slumber': 4186, 'seemad': 4004, 'grandfather': 1974, 'fuel': 1842, 'fire': 1715, 'synthetic': 4527, 'pearl': 3307, 'elegant': 1424, 'jewelry': 2482, 'trinket': 4752, 'transpire': 4729, 'hyena': 2218, 'opposite': 3176, 'global': 1937, 'warming': 5018, 'echo': 1396, 'chamber': 692, 'correctness': 966, 'natasha': 3014, 'gan': 1872, 'suede': 4455, 'boot': 515, 'colour': 822, 'chadstone': 685, 'tonite': 4692, 'exhilarated': 1581, 'usher': 4902, 'traumatic': 4735, 'injury': 2335, 'toll': 4687, 'mental': 2856, 'capacity': 637, 'teddy': 4576, 'judge': 2505, 'ridicule': 3850, 'goddamn': 1950, 'clock': 784, 'bag': 345, 'lab': 2566, 'rat': 3665, 'shouldn': 4106, 'warner': 5022, 'format': 1788, 'blu': 493, 'marginalise': 2790, 'define': 1128, 'layout': 2604, 'bicycle': 443, 'transport': 4730, 'spiritually': 4305, 'reinforcement': 3742, 'cognitive': 808, 'reframe': 3726, 'diminish': 1226, 'dissolve': 1282, 'defer': 1124, 'vigorous': 4955, 'essence': 1520, 'exclusively': 1569, 'devoted': 1200, 'cigarette': 749, 'anticipation': 194, 'stinky': 4379, 'lung': 2749, 'unwell': 4880, 'chest': 723, 'flatten': 1728, 'acknowledge': 42, 'fat': 1652, 'definition': 1131, 'projector': 3550, 'displease': 1272, 'musty': 2989, 'warn': 5021, 'prayer': 3479, 'expert': 1593, 'nutrition': 3114, 'planning': 3393, 'sauna': 3952, 'ice': 2230, 'bath': 382, 'steam': 4363, 'goldilock': 1952, 'hot': 2184, 'waste': 5029, 'available': 314, 'belief': 417, 'structure': 4415, 'function': 1851, 'incredible': 2297, 'convoluted': 945, 'song': 4253, 'mediterranean': 2844, 'sea': 3988, 'bone': 510, 'surprise': 4492, 'scene': 3966, 'swell': 4513, 'validity': 4919, 'psychically': 3579, 'galvanise': 1869, 'prepare': 3494, 'wrestle': 5152, 'plod': 3409, 'administration': 62, 'moral': 2941, 'independence': 2302, 'operation': 3171, 'delicate': 1140, 'dunno': 1368, 'phase': 3350, 'graduation': 1971, 'basis': 379, 'euphoria': 1530, 'depression': 1165, 'invade': 2406, 'recur': 3710, 'revise': 3840, 'reply': 3794, 'appropriate': 229, 'stage': 4338, 'nervousness': 3050, 'sheer': 4074, 'terror': 4607, 'excite': 1565, 'unreliable': 4868, 'hated': 2072, 'thigh': 4629, 'rate': 3666, 'butt': 606, 'sarcoidosis': 3945, 'cook': 946, 'curse': 1057, 'blatant': 474, 'defiance': 1125, 'olivia': 3157, 'prominent': 3553, 'characteristic': 700, 'cozy': 995, 'cafe': 612, 'neighborhood': 3042, 'picnic': 3366, 'james': 2462, 'pileon': 3372, 'haven': 2078, 'foreign': 1782, 'commonplace': 847, 'collect': 815, 'item': 2448, 'tribute': 4747, 'generosity': 1900, 'newborn': 3061, 'photograph': 3356, 'bald': 351, 'blonde': 490, 'rustle': 3912, 'assert': 270, 'unfair': 4833, 'parcel': 3265, 'timer': 4664, 'bell': 420, 'unkind': 4854, 'span': 4278, 'font': 1769, 'appointment': 223, 'bum': 588, 'vbac': 4928, 'snatch': 4208, 'birth': 453, 'authority': 310, 'forgive': 1785, 'electrified': 1423, 'reveal': 3836, 'awesome': 323, 'honesty': 2159, 'authenticity': 308, 'craving': 1007, 'madness': 2757, 'binge': 448, 'arena': 236, 'sympathize': 4523, 'demon': 1148, 'click': 777, 'dose': 1323, 'flying': 1761, 'honoured': 2165, 'brotherhood': 567, 'war': 5012, 'predatory': 3485, 'deform': 1132, 'illogically': 2247, 'harmony': 2063, 'yarn': 5177, 'quality': 3610, 'accord': 32, 'imperfect': 2262, 'shot': 4104, 'endzone': 1466, 'ambulance': 146, 'doc': 1305, 'diazepam': 1208, 'grievance': 1990, 'squirt': 4331, 'forever': 1783, 'tool': 4693, 'mildly': 2881, 'upsetting': 4892, 'elder': 1420, 'ditlevsen': 1295, 'football': 1775, 'crazy': 1010, 'patience': 3291, 'independent': 2303, 'nurture': 3113, 'cammie': 626, 'diktat': 1225, 'assured': 282, 'chore': 740, 'exploration': 1597, 'fearless': 1666, 'incrementally': 2299, 'rigid': 3855, 'boundary': 529, 'paranoia': 3261, 'belonging': 424, 'preface': 3487, 'disclaimer': 1247, 'peta': 3342, 'excellent': 1559, 'tail': 4534, 'kindness': 2544, 'lord': 2719, 'hyundai': 2226, 'tucson': 4773, 'portion': 3443, 'lbs': 2607, 'january': 2463, 'wicked': 5086, 'clothing': 791, 'cantankerous': 634, 'slave': 4168, 'heavily': 2104, 'alcohol': 115, 'marijuana': 2793, 'separation': 4034, 'divorce': 1300, 'maternal': 2817, 'responsibility': 3822, 'uh': 4798, 'mailbox': 2761, 'mailman': 2762, 'clerk': 775, 'willingness': 5096, 'sensation': 4023, 'giggly': 1920, 'upbeat': 4885, 'morose': 2945, 'sombre': 4246, 'exempt': 1575, 'challenging': 691, 'closure': 789, 'conclusion': 881, 'ocd': 3136, 'burden': 595, 'pump': 3588, 'provocative': 3576, 'angst': 174, 'yelp': 5184, 'passion': 3282, 'initial': 2331, 'snowboard': 4221, 'seep': 4006, 'center': 677, 'deceive': 1108, 'honour': 2164, 'client': 778, 'brand': 537, 'bundle': 591, 'distributor': 1293, 'floral': 1751, 'stationary': 4359, 'accessory': 25, 'sniping': 4213, 'headphone': 2087, 'coloured': 823, 'lipstick': 2676, 'wash': 5027, 'slink': 4176, 'accumulation': 36, 'elusive': 1429, 'easter': 1388, 'sustainability': 4503, 'emphasize': 1446, 'digest': 1220, 'ish': 2433, 'unnaturally': 4860, 'defensive': 1123, 'motivate': 2951, 'intolerably': 2400, 'polar': 3421, 'alight': 120, 'hotel': 2185, 'bellman': 421, 'glance': 1929, 'strait': 4391, 'ehb': 1414, 'ow': 3228, 'mill': 2886, 'stun': 4426, 'fault': 1656, 'jolly': 2491, 'putter': 3605, 'jealousy': 2471, 'offensive': 3145, 'careful': 649, 'credit': 1021, 'semester': 4018, 'regularly': 3738, 'suck': 4450, 'pet': 3341, 'obstacle': 3128, 'leaden': 2609, 'block': 484, 'another': 189, 'gun': 2020, 'targeted': 4552, 'hemorrhoid': 2118, 'dire': 1230, 'consequence': 904, 'misplaced': 2904, 'terrorise': 4608, 'anyone': 200, 'exit': 1586, 'freakishly': 1808, 'taylor': 4563, 'swift': 4514, 'bask': 380, 'sir': 4147, 'mba': 2822, 'gate': 1881, 'brief': 551, 'invest': 2407, 'accumulate': 35, 'conifer': 899, 'shovel': 4108, 'sleeve': 4171, 'be': 390, 'fuckin': 1840, 'misused': 2912, 'apostrophe': 212, 'bbc': 389, 'incorrect': 2294, 'spelling': 4292, 'itv': 2450, 'wise': 5113, 'drag': 1335, 'court': 986, 'advantage': 74, 'sloppy': 4181, 'protection': 3567, 'rapport': 3661, 'average': 315, 'earn': 1381, 'rolex': 3875, 'publish': 3582, 'collection': 816, 'concept': 875, 'lit': 2682, 'joyous': 2502, 'nicely': 3069, 'sum': 4466, 'pursuit': 3601, 'stunningly': 4427, 'leer': 2617, 'marry': 2799, 'loving': 2735, 'deliberate': 1139, 'shall': 4061, 'wimbledon': 5098, 'width': 5088, 'instructable': 2364, 'alarm': 111, 'overtook': 3223, 'screw': 3984, 'radiation': 3639, 'initally': 2330, 'internist': 2391, 'nasal': 3012, 'sarcoma': 3946, 'sane': 3938, 'height': 2111, 'forum': 1792, 'hyperemesis': 2221, 'grasp': 1978, 'questioning': 3620, 'arcade': 233, 'practically': 3470, 'drain': 1337, 'defense': 1122, 'comfy': 836, 'anxiously': 198, 'ww': 5164, 'pregnancy': 3490, 'select': 4011, 'spray': 4319, 'variant': 4924, 'lap': 2583, 'tender': 4591, 'persona': 3334, 'insecured': 2345, 'overly': 3217, 'pram': 3475, 'apparently': 216, 'unknown': 4856, 'speedy': 4291, 'clutch': 798, 'sugar': 4459, 'lunch': 2748, 'awkwardness': 329, 'spot': 4317, 'milestone': 2883, 'gut': 2021, 'stasia': 4354, 'oatmeal': 3117, 'abyss': 17, 'nesting': 3052, 'homemaking': 2152, 'instinct': 2362, 'reprieve': 3798, 'halloween': 2035, 'finland': 1714, 'fiber': 1691, 'cow': 992, 'gabriella': 1863, 'btw': 577, 'warrick': 5024, 'naivety': 3001, 'stupidity': 4429, 'rage': 3642, 'yoga': 5192, 'crossfit': 1030, 'coach': 801, 'plank': 3392, 'victorious': 4948, 'angsty': 175, 'literally': 2683, 'white': 5076, 'trash': 4733, 'junk': 2511, 'video': 4950, 'chaste': 706, 'mum': 2975, 'protectiveness': 3569, 'intrigue': 2401, 'comic': 837, 'actor': 50, 'hearted': 2098, 'knit': 2553, 'organized': 3190, 'isolated': 2439, 'recreate': 3709, 'fog': 1765, 'await': 317, 'quivering': 3630, 'flower': 1756, 'lapse': 2584, 'photography': 3357, 'shiver': 4087, 'growth': 2004, 'accelerate': 19, 'flicker': 1740, 'racing': 3637, 'herald': 2120, 'numerous': 3109, 'exhausted': 1579, 'painful': 3242, 'alarmed': 112, 'intellectually': 2373, 'revalidation': 3835, 'portfolio': 3442, 'mysterious': 2991, 'intimately': 2398, 'buoy': 594, 'surrender': 4495, 'transcendent': 4724, 'surge': 4490, 'dough': 1328, 'contribution': 938, 'innovation': 2339, 'adjustment': 60, 'economic': 1397, 'labor': 2568, 'compassion': 857, 'stranger': 4395, 'retail': 3829, 'resolved': 3814, 'teenage': 4578, 'wallet': 5004, 'sweetly': 4511, 'coordinate': 952, 'cave': 670, 'tibris': 4654, 'resort': 3816, 'peak': 3306, 'illness': 2246, 'housebound': 2189, 'peckish': 3308, 'brew': 549, 'kierkegaard': 2539, 'philosopher': 3352, 'importance': 2266, 'sparkle': 4280, 'sincerity': 4140, 'rev': 3834, 'resist': 3811, 'temptation': 4588, 'unjust': 4853, 'uncare': 4809, 'weak': 5035, 'cage': 613, 'cornish': 960, 'cornwall': 961, 'impressionable': 2275, 'rescue': 3804, 'eater': 1391, 'suspense': 4499, 'springer': 4321, 'programming': 3547, 'retrospect': 3831, 'motivation': 2953, 'scale': 3958, 'ewan': 1550, 'medicine': 2840, 'keenly': 2527, 'greatly': 1984, 'kite': 2549, 'shelter': 4076, 'ambulatory': 147, 'bathing': 383, 'articulate': 249, 'prius': 3521, 'shiny': 4082, 'gore': 1958, 'patagonia': 3288, 'alaska': 113, 'insidious': 2349, 'driving': 1350, 'positively': 3449, 'gradually': 1969, 'pacify': 3234, 'sofa': 4236, 'regulate': 3739, 'sustain': 4502, 'dazzle': 1097, 'cert': 680, 'whilst': 5069, 'explore': 1598, 'capture': 639, 'consistent': 911, 'differently': 1217, 'leader': 2610, 'truthful': 4767, 'form': 1787, 'reread': 3803, 'later': 2591, 'brooklyn': 564, 'latch': 2588, 'breast': 543, 'skip': 4161, 'bomb': 506, 'fan': 1637, 'tastic': 4556, 'hgtv': 2128, 'paige': 3240, 'willy': 5097, 'nilly': 3079, 'replace': 3791, 'puppy': 3596, 'owe': 3229, 'shed': 4073, 'suggestion': 4461, 'solemn': 4240, 'render': 3783, 'thearchitecturality': 4621, 'utopian': 4909, 'strive': 4409, 'fade': 1622, 'hairstyle': 2032, 'droop': 1351, 'frizz': 1831, 'bounce': 527, 'period': 3327, 'constant': 915, 'chatter': 708, 'conference': 888, 'soley': 4241, 'indulgent': 2312, 'julian': 2508, 'mis': 2898, 'stepping': 4369, 'dishonor': 1263, 'participant': 3273, 'quest': 3617, 'gross': 1997, 'snail': 4203, 'mucus': 2969, 'price': 3511, 'texture': 4613, 'terminando': 4599, 'com': 825, 'um': 4802, 'ano': 188, 'depois': 1162, 'advocate': 80, 'lobby': 2696, 'politician': 3429, 'sympathic': 4522, 'lovely': 2734, 'nesty': 3053, 'teeny': 4580, 'weeny': 5050, 'grim': 1992, 'famous': 1636, 'cathartic': 665, 'secretly': 3997, 'mychem': 2990, 'cre': 1011, 'unza': 4883, 'cavalier': 669, 'trim': 4751, 'breed': 547, 'coat': 803, 'symptom': 4525, 'thick': 4628, 'cloud': 792, 'indulge': 2310, 'wounded': 5149, 'working': 5134, 'evolve': 1549, 'transcend': 4723, 'varnish': 4925, 'unkindness': 4855, 'selfishness': 4016, 'distorted': 1286, 'net': 3054, 'tightly': 4659, 'eve': 1536, 'underage': 4817, 'still': 4374, 'outcome': 3196, 'quarrel': 3611, 'sexually': 4053, 'psychologically': 3580, 'mouse': 2958, 'perpetually': 3330, 'gently': 1904, 'slap': 4166, 'enlist': 1481, 'attire': 297, 'disdain': 1255, 'capable': 636, 'pcm': 3301, 'mun': 2977, 'stressful': 4404, 'making': 2769, 'actress': 51, 'imply': 2264, 'orderly': 3184, 'procession': 3532, 'remove': 3782, 'paint': 3244, 'owl': 3231, 'template': 4585, 'canvas': 635, 'warmly': 5019, 'hug': 2196, 'ppl': 3469, 'weren': 5059, 'nick': 3070, 'compartmentalise': 856, 'religion': 3764, 'flick': 1739, 'backing': 336, 'dial': 1204, 'effort': 1408, 'interrupted': 2394, 'aid': 104, 'benadryl': 426, 'cherry': 722, 'candy': 632, 'spit': 4306, 'disrespect': 1275, 'citizen': 753, 'bitterly': 461, 'proper': 3561, 'praise': 3474, 'amish': 152, 'punctual': 3592, 'president': 3500, 'concentrate': 874, 'longing': 2710, 'slip': 4177, 'unwelcome': 4879, 'irrational': 2424, 'adulthood': 71, 'concieve': 880, 'feverish': 1689, 'ganging': 1873, 'alive': 124, 'gooooood': 1957, 'massage': 2808, 'waiting': 4996, 'sheri': 4077, 'king': 2545, 'friggin': 1826, 'psyche': 3577, 'penn': 3315, 'production': 3538, 'sift': 4124, 'mound': 2955, 'atari': 283, 'faux': 1657, 'hawk': 2080, 'dykey': 1375, 'homeland': 2150, 'november': 3104, 'inevitable': 2314, 'hummpffff': 2207, 'flash': 1725, 'delighted': 1143, 'acheivment': 40, 'surrounding': 4497, 'unexpected': 4832, 'alexis': 117, 'shell': 4075, 'nickey': 3071, 'euan': 1528, 'murder': 2980, 'medication': 2839, 'trigger': 4749, 'barrier': 373, 'vomit': 4986, 'smoker': 4199, 'quit': 3628, 'renew': 3784, 'endurance': 1465, 'chai': 686, 'lifeline': 2654, 'encouragement': 1459, 'redcoat': 3712, 'trophy': 4759, 'enter': 1489, 'morris': 2946, 'immensely': 2259, 'prompting': 3556, 'traitor': 4719, 'list': 2678, 'recall': 3690, 'grey': 1989, 'foodie': 1771, 'birthmom': 455, 'nov': 3102, 'asshole': 274, 'standard': 4345, 'soccer': 4226, 'send': 4021, 'entirety': 1498, 'consumption': 925, 'bench': 427, 'favs': 1663, 'subtly': 4443, 'warning': 5023, 'benign': 433, 'spite': 4307, 'commercialism': 841, 'recording': 3706, 'genentech': 1893, 'takeover': 4538, 'gallery': 1867, 'deadline': 1099, 'giant': 1916, 'glass': 1932, 'vigilant': 4954, 'whoosh': 5083, 'dipshit': 1229, 'unfulfilled': 4842, 'closed': 786, 'egg': 1412, 'benedict': 429, 'teeter': 4581, 'totering': 4701, 'ending': 1462, 'addictive': 57, 'explode': 1596, 'debris': 1105, 'menu': 2860, 'frequent': 1813, 'input': 2340, 'slapping': 4167, 'boil': 504, 'manner': 2783, 'labour': 2569, 'needle': 3036, 'midst': 2876, 'married': 2798, 'senior': 4022, 'pastor': 3287, 'glaring': 1930, 'inexperience': 2316, 'deke': 1137, 'oiler': 3153, 'messy': 2868, 'cluster': 797, 'massively': 2810, 'suicidal': 4462, 'behave': 411, 'culturally': 1048, 'tracy': 4709, 'rushed': 3908, 'transform': 4725, 'suppress': 4485, 'tiring': 4675, 'revovle': 3841, 'toy': 4707, 'ansi': 190, 'exhaust': 1578, 'jeannie': 2473, 'grip': 1994, 'intensely': 2378, 'cash': 658, 'gas': 1878, 'envelope': 1502, 'intend': 2376, 'popeye': 3437, 'cartoon': 655, 'ambition': 144, 'clueless': 796, 'homesick': 2154, 'dm': 1304, 'jeff': 2474, 'unhappiness': 4844, 'hump': 2209, 'hip': 2139, 'moaning': 2917, 'nursing': 3112, 'boo': 511, 'friggety': 1825, 'hoo': 2166, 'personnel': 3339, 'irritate': 2429, 'full': 1848, 'quilting': 3626, 'strangely': 4394, 'ebay': 1393, 'fish': 1718, 'dejected': 1136, 'remarkably': 3772, 'foolish': 1773, 'envous': 1507, 'disorientate': 1270, 'queasy': 3613, 'essentially': 1522, 'consideration': 909, 'reserve': 3809, 'technically': 4573, 'admire': 65, 'remedy': 3773, 'flatter': 1729, 'bodypump': 502, 'dvd': 1372, 'gather': 1883, 'compulsory': 871, 'cue': 1047, 'anyways': 201, 'doha': 1311, 'passionate': 3283, 'inform': 2323, 'succeed': 4446, 'unattainable': 4806, 'riva': 3865, 'harvey': 2065, 'weinstein': 5055, 'eatery': 1392, 'spice': 4297, 'flavor': 1731, 'workload': 5135, 'cherish': 721, 'integrity': 2370, 'intact': 2369, 'remix': 3778, 'vegitarianism': 4931, 'commit': 843, 'name': 3005, 'muaz': 2968, 'fulfilling': 1847, 'overall': 3211, 'balanced': 350, 'enormous': 1483, 'flamingo': 1724, 'turbulently': 4777, 'violently': 4967, 'container': 927, 'exchange': 1564, 'da': 1069, 'bul': 586, 'taewuhbeoryeo': 4533, 'niga': 3073, 'ulbujitneun': 4800, 'nal': 3003, 'ah': 102, 'neoneun': 3046, 'wiheomhae': 5091, 'gal': 1866, 'ttaekkaji': 4769, 'gatsseo': 1884, 'woooo': 5129, 'becuz': 401, 'cuz': 1064, 'saving': 3955, 'cost': 969, 'inspired': 2356, 'headlamp': 2084, 'tent': 4597, 'unconsciously': 4815, 'subconsciously': 4434, 'workplace': 5137, 'status': 4360, 'momentarily': 2929, 'happpy': 2053, 'field': 1694, 'academic': 18, 'athletic': 286, 'vain': 4915, 'bastard': 381, 'recovery': 3708, 'health': 2090, 'dig': 1219, 'smash': 4192, 'channel': 697, 'gervase': 1910, 'pipe': 3381, 'literary': 2684, 'legitimate': 2623, 'analyze': 162, 'naega': 2996, 'deo': 1158, 'apaya': 208, 'hae': 2028, 'dasi': 1089, 'neol': 3044, 'chajeul': 688, 'su': 4432, 'itge': 2449, 'sigani': 4125, 'heureulsurok': 2126, 'gaseumi': 1879, 'apawa': 207, 'dan': 1076, 'hanbeon': 2038, 'manirado': 2781, 'doedollil': 1308, 'suman': 4467, 'itdamyeon': 2447, 'gotong': 1962, 'ttawin': 4770, 'naegen': 2997, 'raise': 3647, 'pinpoint': 3378, 'assess': 271, 'impose': 2269, 'weekly': 5049, 'squeak': 4328, 'baachan': 331, 'trolley': 4757, 'courthouse': 988, 'design': 1173, 'cheerfully': 717, 'chat': 707, 'lake': 2574, 'paulie': 3296, 'visibly': 4974, 'perception': 3320, 'ibleeditout': 2228, 'kodi': 2561, 'brat': 538, 'monthe': 2938, 'recommendation': 3704, 'modern': 2921, 'web': 5041, 'site': 4151, 'advertising': 77, 'entertain': 1490, 'bore': 517, 'irregardless': 2426, 'remotely': 3781, 'defination': 1127, 'romance': 3878, 'bride': 550, 'reeeeeeeeally': 3719, 'palm': 3248, 'ear': 1379, 'plea': 3402, 'disconnected': 1250, 'publisher': 3583, 'snobbish': 4217, 'jeanette': 2472, 'winterson': 5110, 'scope': 3978, 'implement': 2263, 'thousand': 4639, 'mile': 2882, 'excruciating': 1571, 'partly': 3277, 'dependent': 1161, 'js': 2503, 'reject': 3744, 'jilt': 2484, 'vow': 4990, 'passport': 3285, 'hearing': 2094, 'unique': 4849, 'communication': 848, 'paralysis': 3260, 'region': 3734, 'outer': 3198, 'carniola': 652, 'evidence': 1547, 'suburban': 4444, 'exact': 1552, 'replica': 3793, 'sequel': 4035, 'overrate': 3218, 'oh': 3151, 'julia': 2507, 'witty': 5120, 'aimlessly': 107, 'franz': 1804, 'liebkind': 2652, 'producer': 3536, 'fuhrer': 1843, 'nevermind': 3058, 'guest': 2011, 'division': 1299, 'greet': 1987, 'everybody': 1542, 'amvassago': 159, 'beefy': 405, 'amkris': 154, 'toshibalol': 4698, 'amit': 153, 'epic': 1508, 'beef': 404, 'nooo': 3088, 'loner': 2708, 'loneliness': 2706, 'newtown': 3066, 'grieve': 1991, 'interest': 2385, 'spat': 4282, 'grand': 1973, 'scheme': 3973, 'coulter': 976, 'ed': 1400, 'schultz': 3975, 'outrage': 3204, 'substance': 4440, 'tirade': 4671, 'can': 629, 'forgot': 1786, 'blogge': 486, 'loquacious': 2718, 'hunter': 2213, 'dung': 1367, 'clinique': 782, 'temporarily': 4587, 'dismayed': 1266, 'outfits': 3200, 'fluster': 1758, 'evaporate': 1535, 'cyberspace': 1065, 'alba': 114, 'fitting': 1721, 'disrupt': 1276, 'loud': 2727, 'likeaudrey': 2662, 'hepburn': 2119, 'tiffany': 4657, 'blissfully': 483, 'unaware': 4808, 'rustie': 3911, 'dean': 1101, 'hometown': 2155, 'moose': 2940, 'dummy': 1363, 'pariah': 3268, 'meat': 2832, 'dish': 1262, 'largely': 2586, 'illustrator': 2250, 'designer': 1174, 'trapping': 4732, 'crosshatch': 1031, 'lensflare': 2630, 'everyone': 1544, 'cup': 1051, 'scroll': 3985, 'predict': 3486, 'narrate': 3010, 'erik': 1513, 'prince': 3515, 'autobiography': 311, 'civilian': 755, 'warrior': 5025, 'blackwater': 466, 'unsung': 4875, 'release': 3756, 'monday': 2933, 'awkwardly': 328, 'melbourne': 2849, 'listening': 2681, 'cheerful': 716, 'whir': 5073, 'minor': 2894, 'election': 1422, 'omit': 3160, 'questionable': 3619, 'nyps': 3116, 'webpage': 5042, 'carson': 654, 'potato': 3458, 'sooo': 4258, 'ti': 4653, 'jot': 2496, 'hussein': 2217, 'thug': 4650, 'multitude': 2974, 'qaf': 3608, 'cryin': 1045, 'jacynthe': 2457, 'lookin': 2713, 'rupaul': 3905, 'valentine': 4916, 'kayle': 2525, 'gerle': 1909, 'mariah': 2792, 'carey': 651, 'classic': 761, 'sprinkling': 4322, 'beacuse': 392, 'dirty': 1235, 'luminary': 2747, 'swinelord': 4517, 'deluxe': 1145, 'ordinance': 3185, 'reasonably': 3687, 'magical': 2759, 'genealogical': 1892, 'strain': 4390, 'stellar': 4365, 'postpone': 3456, 'inaction': 2281, 'quirky': 3627, 'int': 2368, 'generational': 1898, 'feat': 1667, 'inconsistent': 2292, 'twin': 4785, 'copper': 955, 'flow': 1755, 'outward': 3208, 'kidnap': 2538, 'creme': 1023, 'grab': 1964, 'sxe': 4520, 'jeremy': 2476, 'luka': 2745, 'uncontrollably': 4816, 'plunge': 3412, 'colored': 821, 'pencil': 3314, 'nonetheless': 3086, 'poison': 3419, 'jim': 2485, 'admiration': 64, 'inhibit': 2328, 'flounder': 1754, 'jame': 2461, 'christine': 743, 'humanly': 2202, 'natural': 3018, 'sweetener': 4510, 'refined': 3723, 'blunt': 495, 'relation': 3749, 'anti': 193, 'mat': 2812, 'circuit': 751, 'spine': 4302, 'cop': 953, 'degree': 1135, 'sensibly': 4027, 'snippy': 4215, 'reiterate': 3743, 'despondent': 1183, 'incident': 2286, 'mermaidhaire': 2864, 'whip': 5072, 'station': 4358, 'flee': 1735, 'underbelly': 4818, 'central': 678, 'subway': 4445, 'map': 2787, 'frazzle': 1805, 'meltdown': 2853, 'gigantic': 1918, 'spider': 4298, 'climb': 780, 'emm': 1439, 'scabi': 3957, 'verona': 4937, 'catapult': 663, 'aa': 0, 'schedule': 3971, 'mehow': 2848, 'casually': 661, 'remark': 3770, 'april': 231, 'infield': 2319, 'insider': 2348, 'legend': 2622, 'devote': 1199, 'provocation': 3575, 'parallel': 3259, 'euro': 1531, 'strawberry': 4397, 'stat': 4355, 'vaguely': 4914, 'reel': 3720, 'sadden': 3919, 'destinys': 1186, 'funky': 1854, 'mcas': 2823, 'fulfill': 1845, 'idealize': 2234, 'education': 1405, 'library': 2649, 'cell': 675, 'bio': 449, 'clarity': 759, 'reign': 3740, 'alise': 123, 'please': 3405, 'prize': 3525, 'italy': 2445, 'fling': 1743, 'suitcase': 4465, 'crossing': 1032, 'pressurize': 3504, 'cabin': 611, 'shafted': 4057, 'yo': 5191, 'trivial': 4756, 'mindset': 2892, 'humiliate': 2205, 'secretary': 3996, 'eh': 1413, 'hotshot': 2186, 'honest': 2157, 'cru': 1035, 'australia': 307, 'effortlessly': 1409, 'graceful': 1965, 'pop': 3436, 'balloon': 354, 'forefinger': 1780, 'thumb': 4651, 'brokeup': 562, 'naman': 3004, 'na': 2995, 'reported': 3796, 'dissassociate': 1277, 'colleague': 814, 'wod': 5122, 'rider': 3849, 'xango': 5167, 'juice': 2506, 'grin': 1993, 'peter': 3343, 'partially': 3272, 'ivy': 2453, 'scandalize': 3960, 'nfl': 3067, 'dharavi': 1203, 'mumbai': 2976, 'annual': 186, 'turnover': 4781, 'aside': 262, 'rabbit': 3634, 'islam': 2434, 'demotivate': 1149, 'hesitate': 2125, 'improvement': 2279, 'adopt': 67, 'label': 2567, 'queer': 3615, 'unclear': 4813, 'joel': 2487, 'wishful': 5116, 'commitment': 844, 'file': 1700, 'fiddle': 1693, 'forefront': 1781, 'flexible': 1737, 'panicky': 3252, 'fuss': 1859, 'learning': 2614, 'rd': 3670, 'tube': 4771, 'fitness': 1720, 'calf': 618, 'walia': 5000, 'tarun': 4553, 'bani': 362, 'page': 3238, 'irresponcible': 2427, 'accurate': 37, 'kiat': 2535, 'obsessive': 3127, 'anal': 161, 'winner': 5107, 'splash': 4309, 'disorient': 1269, 'reward': 3842, 'necklace': 3034, 'beach': 391, 'combing': 829, 'rubbish': 3896, 'tradition': 4710, 'knock': 2556, 'backlog': 337, 'crunk': 1040, 'correction': 964, 'prom': 3552, 'glasgow': 1931, 'hamper': 2037, 'dent': 1155, 'accustomed': 38, 'guitar': 2016, 'hypocrite': 2224, 'palin': 3247, 'digust': 1224, 'village': 4957, 'alert': 116, 'manila': 2778, 'common': 846, 'guard': 2009, 'spy': 4325, 'broom': 565, 'scrub': 3986, 'brush': 574, 'vinegar': 4961, 'newspaper': 3064, 'dramatic': 1339, 'whiny': 5071, 'banter': 365, 'seth': 4046, 'apologize': 210, 'alright': 134, 'wax': 5033, 'doll': 1312, 'tak': 4536, 'bare': 370, 'theory': 4624, 'unsolved': 4873, 'crime': 1025, 'hugely': 2198, 'sitting': 4152, 'benevolent': 432, 'goliath': 1953, 'undo': 4827, 'worldly': 5139, 'lurker': 2752, 'cumberland': 1050, 'prior': 3518, 'meditate': 2842, 'altogether': 138, 'jerry': 2479, 'sloan': 4178, 'utah': 4906, 'jazz': 2468, 'tranquil': 4722, 'classroom': 764, 'exceptionally': 1562, 'timetable': 4665, 'customary': 1058, 'siesta': 4123, 'conflicted': 893, 'paparazzi': 3255, 'zq': 5209, 'jcho': 2469, 'cpine': 996, 'track': 4708, 'autumn': 313, 'andthenwear': 167, 'chatting': 709, 'lego': 2624, 'tissue': 4676, 'compensate': 859, 'dennis': 1153, 'covington': 991, 'discussion': 1254, 'closing': 788, 'emily': 1438, 'underground': 4819, 'murmur': 2981, 'sharknado': 4068, 'intelligence': 2374, 'shoplift': 4098, 'gummy': 2019, 'hehe': 2110, 'billy': 447, 'fierceness': 1696, 'chase': 705, 'dragon': 1336, 'beg': 407, 'translate': 4727, 'sorrow': 4262, 'unfold': 4840, 'surprised': 4493, 'tangible': 4548, 'pragmatic': 3473, 'vindictive': 4959, 'confrontational': 895, 'thrive': 4644, 'executive': 1574, 'corporate': 963, 'flaw': 1733, 'local': 2697, 'economy': 1398, 'gm': 1945, 'fashioned': 1649, 'graphic': 1977, 'illustration': 2249, 'portrayal': 3445, 'gratuitously': 1981, 'chronically': 746, 'london': 2705, 'grammar': 1972, 'disclosure': 1248, 'collaboration': 813, 'seldom': 4010, 'hint': 2138, 'scent': 3968, 'taiwan': 4535, 'lawyer': 2601, 'shaken': 4059, 'elation': 1419, 'sec': 3992, 'wrinkle': 5154, 'prevention': 3507, 'outfit': 3199, 'heel': 2108, 'whack': 5064, 'sip': 4146, 'coke': 811, 'swimming': 4516, 'mousekin': 2959, 'listener': 2680, 'yknow': 5190, 'karen': 2520, 'pushy': 3603, 'front': 1833, 'cynicism': 1068, 'upside': 4893, 'courtesy': 987, 'journalism': 2498, 'sible': 4117, 'bro': 558, 'tuck': 4772, 'strand': 4392, 'tickle': 4656, 'leisurely': 2625, 'sharp': 4069, 'object': 3119, 'dwell': 1374, 'lowly': 2738, 'drinkin': 1347, 'whiskey': 5074, 'beer': 406, 'les': 2632, 'paul': 3295, 'farm': 1644, 'prey': 3510, 'lyric': 2754, 'knowingly': 2559, 'claw': 766, 'cookie': 947, 'highschool': 2135, 'earthquake': 1385, 'refresh': 3727, 'redden': 3713, 'manhood': 2775, 'satisfaction': 3949, 'pumped': 3589, 'tab': 4530, 'manitz': 2782, 'dot': 1324, 'accent': 20, 'spanish': 4279, 'score': 3979, 'lightly': 2659, 'moisturiser': 2925, 'last': 2587, 'twice': 4784, 'gentle': 1903, 'cleanse': 770, 'moisturise': 2924, 'rouge': 3888, 'figt': 1698, 'perspective': 3340, 'gene': 1891, 'dominant': 1314, 'poet': 3416, 'likeable': 2661, 'isn': 2437, 'passionately': 3284, 'knitter': 2554, 'homeless': 2151, 'precise': 3483, 'secure': 4000, 'monastery': 2932, 'unpressed': 4863, 'outlet': 3203, 'pant': 3253, 'update': 4887, 'risen': 3863, 'desolate': 1177, 'soundscape': 4269, 'batter': 385, 'ordinary': 3186, 'libertine': 2648, 'supportive': 4482, 'senator': 4020, 'jackson': 2456, 'cnn': 799, 'sweden': 4507, 'costly': 970, 'futile': 1860, 'peril': 3326, 'derange': 1167, 'villian': 4958, 'wristwatch': 5155, 'flatmate': 1727, 'pin': 3373, 'nanashi': 3007, 'genuine': 1905, 'wednesday': 5045, 'insanely': 2343, 'original': 3191, 'fragrance': 1798, 'freshen': 1816, 'underwear': 4824, 'drawer': 1341, 'gorgeously': 1960, 'girly': 1924, 'maniacal': 2776, 'rant': 3657, 'mri': 2965, 'jewellery': 2481, 'chinese': 733, 'spur': 4323, 'funk': 1853, 'float': 1748, 'crush': 1041, 'offender': 3143, 'bodega': 500, 'laundry': 2596, 'oddly': 3140, 'devoid': 1198, 'coin': 810, 'changer': 696, 'badman': 343, 'shaun': 4071, 'dlpt': 1303, 'keith': 2529, 'detour': 1192, 'tourist': 4705, 'xela': 5170, 'holly': 2147, 'logistic': 2702, 'omangy': 3159, 'slobby': 4179, 'root': 3885, 'condemn': 883, 'handmade': 2044, 'creation': 1014, 'generation': 1897, 'openly': 3170, 'sooooooooooo': 4259, 'naight': 2999, 'abnormally': 9, 'stake': 4342, 'feeder': 1674, 'wrongly': 5161, 'relentless': 3758, 'melee': 2850, 'dps': 1332, 'raid': 3643, 'insane': 2342, 'housewife': 2190, 'vocab': 4982, 'ironically': 2423, 'loudon': 2730, 'kate': 2523, 'mcgarrigle': 2824, 'rufu': 3900, 'wainwright': 4994, 'virginia': 4970, 'florida': 1753, 'handful': 2041, 'barrage': 372, 'nasty': 3013, 'loudly': 2729, 'wind': 5102, 'surprisingly': 4494, 'mircowave': 2896, 'hallucination': 2036, 'intimated': 2397, 'blame': 470, 'sodden': 4235, 'shatter': 4070, 'sardonic': 3947, 'squat': 4327, 'ironic': 2422, 'broadly': 560, 'disciple': 1246, 'christ': 741, 'manifestation': 2777, 'whiff': 5068, 'disability': 1236, 'zumba': 5210, 'pgce': 3349, 'pathetic': 3290, 'wig': 5090, 'brow': 568, 'platitude': 3397, 'meaning': 2828, 'radical': 3640, 'swim': 4515, 'supporter': 4481, 'ebook': 1395, 'parenting': 3267, 'darkness': 1084, 'bookmark': 514, 'liveagainsttheflow': 2687, 'wheeeeee': 5066, 'prospect': 3565, 'dvds': 1373, 'office': 3147, 'cruise': 1037, 'detail': 1189, 'pit': 3385, 'italian': 2444, 'dignified': 1221, 'stance': 4343, 'flesh': 1736, 'flutter': 1759, 'narrow': 3011, 'bearable': 395, 'bondmusing': 509, 'optimist': 3179, 'envision': 1506, 'navigating': 3025, 'trail': 4714, 'disjointed': 1265, 'iolani': 2415, 'gwiyomi': 2023, 'whine': 5070, 'wally': 5006, 'lamb': 2575, 'chick': 724, 'spock': 4313, 'reciprocate': 3697, 'compel': 858, 'meek': 2845, 'asian': 261, 'regain': 3731, 'routine': 3893, 'refrigerator': 3728, 'generic': 1899, 'wimp': 5099, 'supposedly': 4484, 'hidden': 2130, 'msg': 2966, 'breeze': 548, 'gulp': 2018, 'commuter': 851, 'african': 89, 'reliable': 3760, 'persecute': 3331, 'rice': 3845, 'counter': 981, 'redhead': 3715, 'lavender': 2598, 'orange': 3182, 'substitute': 4441, 'oil': 3152, 'essential': 1521, 'mince': 2889, 'xmas': 5171, 'goodie': 1955, 'angie': 171, 'isolate': 2438, 'raphael': 3659, 'laiya': 2573, 'jennifer': 2475, 'scamper': 3959, 'frame': 1800, 'layer': 2603, 'target': 4551, 'contentedly': 931, 'ignorance': 2243, 'engage': 1472, 'debate': 1104, 'broaden': 559, 'throbbing': 4646, 'cock': 804, 'route': 3892, 'ugliness': 4796, 'eternal': 1525, 'charming': 704, 'criminal': 1026, 'justice': 2512, 'st': 4335, 'abusive': 16, 'rear': 3685, 'evangelical': 1534, 'carb': 642, 'crave': 1006, 'official': 3149, 'contest': 932, 'chair': 687, 'nao': 3008, 'kook': 2562, 'disadvantage': 1238, 'entertainment': 1492, 'familiar': 1634, 'georgia': 1908, 'serif': 4038, 'px': 3607, 'uber': 4794, 'terry': 4609, 'yippee': 5189, 'cheer': 715, 'equal': 1510, 'seriousness': 4041, 'elderly': 1421, 'oven': 3210, 'alliance': 127, 'spencer': 4293, 'mighty': 2878, 'roar': 3868, 'jerk': 2477, 'poke': 3420, 'supermarket': 4478, 'dentist': 1156, 'plantar': 3395, 'fascitis': 1647, 'outing': 3202, 'submarine': 4438, 'cartwheel': 656, 'ankle': 180, 'board': 496, 'murakami': 2979, 'trial': 4746, 'hardship': 2061, 'revere': 3838, 'pioneer': 3379, 'hasting': 2068, 'disorder': 1268, 'insist': 2351, 'rmb': 3866, 'mask': 2806, 'divert': 1297, 'constructive': 920, 'bunnysuit': 593, 'unease': 4829, 'recite': 3698, 'mantra': 2784, 'shiftless': 4080, 'driver': 1349, 'apathetic': 205, 'absurdity': 15, 'enact': 1454, 'arrogance': 245, 'clarify': 758, 'turkey': 4778, 'advise': 79, 'smelly': 4194, 'jalopy': 2459, 'creatively': 1016, 'stimulating': 4377, 'teaching': 4568, 'browser': 572, 'feature': 1668, 'alongside': 132, 'favorite': 1660, 'diane': 1206, 'von': 4988, 'furstenberg': 1858, 'rodarte': 3873, 'wu': 5163, 'rapture': 3662, 'lawrencewashington': 2600, 'marketer': 2796, 'investigate': 2408, 'consumer': 924, 'sicken': 4119, 'lance': 2578, 'devin': 1197, 'unsettling': 4872, 'identity': 2236, 'consume': 923, 'handheld': 2042, 'dash': 1088, 'dickinson': 1209, 'colon': 819, 'semi': 4019, 'enhance': 1476, 'enjambment': 1477, 'sonnet': 4255, 'beneficial': 430, 'musically': 2985, 'limitation': 2669, 'sensibility': 4026, 'display': 1271, 'locker': 2700, 'pagetitle': 3239, 'khatsii': 2534, 'downer': 1330, 'justly': 2516, 'hrs': 2192, 'gulam': 2017, 'ali': 118, 'classical': 762, 'singer': 4143, 'priority': 3519, 'counselling': 978, 'sumthg': 4469, 'tat': 4558, 'thk': 4635, 'fucking': 1841, 'shoot': 4094, 'daylight': 1096, 'fascinate': 1645, 'ebb': 1394, 'twitch': 4788, 'quiver': 3629, 'expression': 1602, 'mythical': 2994, 'ailment': 105, 'nutritional': 3115, 'pensive': 3317, 'abc': 3, 'tour': 4704, 'activism': 48, 'construe': 921, 'potentially': 3460, 'reilly': 3741, 'rewrite': 3843, 'fma': 1762, 'op': 3167, 'rampant': 3651, 'errrr': 1515, 'dun': 1366, 'noe': 3081, 'lame': 2577, 'ne': 3028, 'happening': 2051, 'subtle': 4442, 'spacy': 4277, 'effective': 1407, 'hilarious': 2136, 'badass': 341, 'sandwich': 3937, 'fri': 1818, 'shannon': 4064, 'pose': 3446, 'cutesy': 1062, 'vintage': 4964, 'despair': 1178, 'insomnia': 2352, 'enrich': 1486, 'extrememly': 1611, 'porn': 3440, 'hun': 2210, 'hype': 2219, 'denial': 1150, 'due': 1361, 'thrill': 4642, 'verbally': 4935, 'migraine': 2879, 'accidentally': 27, 'impromptu': 2277, 'spending': 4295, 'loathing': 2695, 'unwarranted': 4878, 'supremely': 4486, 'hackle': 2027, 'sweep': 4508, 'repress': 3797, 'concidence': 879, 'serina': 4039, 'cleaner': 769, 'nay': 3026, 'remodel': 3779, 'amenity': 148, 'respectful': 3819, 'guarantee': 2008, 'pile': 3371, 'neon': 3045, 'shizz': 4088, 'idealistic': 2233, 'proporte': 3563, 'sucker': 4451, 'endless': 1463, 'apparent': 215, 'discernment': 1245, 'flaunt': 1730, 'patio': 3293, 'flush': 1757, 'toilet': 4685, 'tangent': 4547, 'engagement': 1473, 'newbie': 3060, 'pour': 3463, 'necessarily': 3031, 'vast': 4926, 'urge': 4896, 'spa': 4274, 'treatment': 4740, 'occasionally': 3133, 'luggage': 2744, 'exceptional': 1561, 'urgent': 4898, 'rob': 3870, 'heal': 2088, 'transition': 4726, 'rammstein': 3650, 'correctly': 965, 'idk': 2240, 'xbla': 5168, 'sony': 4256, 'wipe': 5111, 'oxygen': 3232, 'fool': 1772, 'side': 4121, 'grit': 1995, 'ivspirit': 2452, 'translatethis': 4728, 'rejoice': 3746, 'calgary': 619, 'pb': 3300, 'disservice': 1280, 'artifically': 250, 'lj': 2690, 'creativity': 1017, 'combat': 826, 'trainer': 4717, 'sharia': 4067, 'stream': 4398, 'european': 1532, 'union': 4848, 'policy': 3424, 'thesis': 4627, 'dollar': 1313, 'glc': 1933, 'crunch': 1039, 'enrage': 1484, 'wary': 5026, 'unafraid': 4805, 'slack': 4164, 'nominate': 3083, 'china': 732, 'treadmill': 4738, 'piano': 3362, 'hyperventilate': 2223, 'clique': 783, 'triple': 4754, 'pompous': 3431, 'notoriety': 3101, 'duckie': 1360, 'commie': 842, 'feds': 1670, 'encapsulate': 1455, 'ness': 3051, 'energise': 1469, 'socialise': 4229, 'smiley': 4196, 'togehter': 4684, 'eyebrow': 1613, 'aubrey': 302, 'baptism': 366, 'baptize': 367, 'wisdom': 5112, 'bewildered': 439, 'nameless': 3006, 'mid': 2874, 'marginally': 2791, 'attach': 292, 'awash': 321, 'overeducated': 3215, 'underpaid': 4820, 'indenture': 2301, 'dupe': 1369, 'pickle': 3365, 'eventually': 1540, 'volume': 4985, 'beijing': 414, 'diary': 1207, 'firm': 1717, 'believer': 419, 'salon': 3931, 'west': 5060, 'meath': 2833, 'ping': 3375, 'naughty': 3020, 'rudolph': 3898, 'valentino': 4917, 'unspeakable': 4874, 'si': 4116, 'hundred': 2211, 'mass': 2807, 'eucharist': 1529, 'professor': 3542, 'banker': 364, 'conservative': 905, 'liberal': 2645, 'gay': 1885, 'arrogant': 246, 'rooster': 3884, 'underwhelmed': 4825, 'gina': 1921, 'misgiving': 2902, 'fragile': 1797, 'def': 1118, 'cure': 1052, 'mate': 2814, 'healthcare': 2091, 'trample': 4720, 'superstition': 4479, 'caution': 667, 'shooting': 4096, 'converse': 942, 'youtube': 5198, 'trend': 4744, 'distinct': 1284, 'pause': 3297, 'kakashi': 2518, 'resupplie': 3828, 'vitamin': 4979, 'superficial': 4475, 'assuage': 278, 'muster': 2988, 'christmassy': 745, 'overweight': 3224, 'american': 150, 'jerome': 2478, 'illustrate': 2248, 'trembly': 4742, 'diwali': 1301, 'mistreat': 2909, 'musician': 2986, 'ipad': 2416, 'emptiness': 1452, 'baggage': 346, 'nausea': 3021, 'cough': 974, 'tiredness': 4674, 'sunshine': 4473, 'dorky': 1321, 'unfit': 4839, 'rotund': 3887, 'buff': 582, 'looking': 2714, 'fierce': 1695, 'bloke': 489, 'snap': 4205, 'sock': 4232, 'string': 4407, 'knot': 2557, 'shoelace': 4092, 'dreadful': 1343, 'camp': 627, 'accommodation': 28, 'biochem': 450, 'queen': 3614, 'miscreant': 2899, 'buzzy': 610, 'shire': 4083, 'reunite': 3833, 'manipulkate': 2780, 'lucy': 2743, 'charlie': 702, 'indonesia': 2308, 'inspiring': 2357, 'internship': 2392, 'internally': 2389, 'shortness': 4103, 'distrustful': 1294, 'idle': 2241, 'boast': 497, 'compromise': 870, 'unit': 4850, 'til': 4660, 'absence': 13, 'decently': 1109, 'xs': 5174, 'milk': 2885, 'formula': 1789, 'zipline': 5206, 'grove': 2002, 'neighbor': 3041, 'couch': 973, 'pouting': 3464, 'utter': 4910, 'becasue': 400, 'lean': 2611, 'george': 1907, 'blogging': 488, 'deodorant': 1159, 'snob': 4216, 'selective': 4013, 'privacys': 3522, 'idiocy': 2237, 'fastforwarding': 1651, 'paragraph': 3258, 'clay': 767, 'athleticism': 287, 'severely': 4049, 'talent': 4541, 'glory': 1939, 'undoubtedly': 4828, 'pundit': 3593, 'model': 2920, 'thou': 4637, 'blaming': 471, 'slut': 4188, 'shame': 4063, 'sentinel': 4031, 'hanford': 2047, 'councilman': 977, 'chins': 735, 'propose': 3564, 'media': 2835, 'committee': 845, 'trepidatious': 4745, 'stoned': 4384, 'endorphin': 1464, 'twist': 4786, 'explanation': 1595, 'proof': 3559, 'alot': 133, 'intellect': 2371, 'abbigail': 2, 'apraxia': 230, 'womanhood': 5124, 'loyal': 2739, 'cajole': 614, 'woop': 5130, 'redundant': 3718, 'credential': 1020, 'thereof': 4626, 'ward': 5013, 'investigator': 2409, 'ponder': 3432, 'criticize': 1028, 'throng': 4648, 'fervor': 1686, 'angle': 172, 'unprepared': 4862, 'paratrooper': 3264, 'conduct': 887, 'mission': 2906, 'essay': 1519, 'candyland': 633, 'haggard': 2029, 'fantabulous': 1641, 'turnout': 4780, 'recent': 3692, 'decidedly': 1111, 'egalitarian': 1410, 'feminist': 1684, 'jonalyn': 2492, 'fincher': 1709, 'soulation': 4266, 'perceive': 3319, 'worship': 5142, 'suspicion': 4500, 'scar': 3961, 'aren': 235, 'cutting': 1063, 'gallow': 1868, 'antagonism': 192, 'misunderstanding': 2910, 'wholeheartedly': 5077, 'armistice': 239, 'remembrance': 3775, 'skincare': 4159, 'sectret': 3999, 'egf': 1411, 'repair': 3786, 'gel': 1889, 'jar': 2465, 'sparkleapple': 4281, 'niggling': 3075, 'counsellor': 979, 'snippet': 4214, 'sidewalk': 4122, 'pothole': 3461, 'fashion': 1648, 'trustworthy': 4764, 'lowlight': 2737, 'section': 3998, 'india': 2304, 'recognise': 3701, 'decorate': 1114, 'cautious': 668, 'bs': 575, 'accepted': 24, 'extraordinarily': 1608, 'nauseas': 3022, 'wondrous': 5127, 'creator': 1018, 'lil': 2666, 'sucky': 4452, 'impending': 2261, 'exceedingly': 1558, 'pronounce': 3558, 'accordance': 33, 'faithfulness': 1630, 'entrance': 1499, 'biochemistry': 451, 'zambia': 5201, 'gastric': 1880, 'coercive': 806, 'heinously': 2113, 'cycling': 1067, 'cope': 954, 'wring': 5153, 'iced': 2231, 'capp': 638, 'brad': 534, 'looks': 2715, 'negatively': 3039, 'britain': 555, 'immediate': 2255, 'gap': 1874, 'preparation': 3493, 'bump': 589, 'mixture': 2915, 'generate': 1896, 'usmleasy': 4903, 'exhilirate': 1582, 'tendency': 4590, 'laziness': 2605, 'narcissism': 3009, 'justifying': 2515, 'strengthen': 4401, 'hi': 2129, 'splendor': 4311, 'sally': 3930, 'hansen': 2049, 'cha': 684, 'ching': 734, 'silver': 4133, 'glitter': 1936, 'vomity': 4987, 'boring': 519, 'assignment': 275, 'titanium': 4677, 'hedgehog': 2106, 'energetically': 1468, 'vinegary': 4962, 'calli': 622, 'intermittent': 2388, 'lacklustre': 2571, 'kassim': 2521, 'selamat': 4009, 'swallow': 4504, 'gabapentin': 1862, 'zonisamide': 5208, 'healing': 2089, 'holistic': 2143, 'embed': 1435, 'superman': 4477, 'stumped': 4425, 'continental': 933, 'purely': 3598, 'heaven': 2102, 'asbestos': 257, 'russell': 3910, 'crowe': 1034, 'robin': 3871, 'hood': 2167, 'merida': 2862, 'everytime': 1546, 'louder': 2728, 'amount': 155, 'processing': 3531, 'bury': 601, 'hatchet': 2070, 'punk': 3594, 'apology': 211, 'kai': 2517, 'preferably': 3489, 'companion': 852, 'ridiculously': 3852, 'temperature': 4584, 'heartburn': 2097, 'wisely': 5114, 'lambrusco': 2576, 'bubbly': 578, 'pious': 3380, 'uppity': 4890, 'outta': 3207, 'tremor': 4743, 'split': 4312, 'confrontation': 894, 'arouse': 241, 'instance': 2358, 'disgruntled': 1258, 'vote': 4989, 'employee': 1447, 'rapidly': 3660, 'ramadan': 3649, 'assessment': 272, 'aloft': 131, 'reflection': 3725, 'rainy': 3646, 'climate': 779, 'likewise': 2665, 'rightly': 3854, 'grandmother': 1975, 'aunt': 306, 'baltic': 356, 'snappy': 4207, 'weightless': 5054, 'significantly': 4130, 'hatter': 2075, 'alice': 119, 'tch': 4564, 'snotface': 4219, 'checklist': 713, 'dominican': 1315, 'republic': 3799, 'suffocated': 4458, 'elated': 1418, 'crawl': 1008, 'stubbornly': 4419, 'liberate': 2646, 'petition': 3344, 'backwards': 339, 'ambitious': 145, 'permanent': 3328, 'shitty': 4086, 'comeback': 831, 'marathon': 2789, 'giggle': 1919, 'nervously': 3049, 'scary': 3964, 'conducive': 886, 'philosophy': 3353, 'industry': 2313, 'buck': 579, 'opening': 3169, 'resentment': 3808, 'vj': 4980, 'thankfulness': 4619, 'gesture': 1911, 'desk': 1176, 'clinic': 781, 'ivory': 2451, 'theme': 4623, 'furniture': 1857, 'spacious': 4276, 'consultant': 922, 'reception': 3694, 'contradictory': 936, 'ripe': 3861, 'wade': 4993, 'dialog': 1205, 'childlike': 730, 'grumble': 2006, 'spoken': 4315, 'momma': 2930, 'willed': 5094, 'tx': 4791, 'sassiness': 3948, 'novice': 3105, 'tried': 4748, 'arrival': 243, 'background': 335, 'newly': 3062, 'motherhood': 2948, 'subconscious': 4433, 'florence': 1752, 'nod': 3080, 'procure': 3534, 'addicted': 56, 'nicotine': 3072, 'withdrawal': 5118, 'dry': 1358, 'noticable': 3098, 'spinach': 4301, 'feta': 1688, 'cranberry': 1001, 'salad': 3928, 'balsamic': 355, 'viniagrette': 4963, 'atmosphere': 290, 'artwork': 255, 'sage': 3924, 'isolation': 2440, 'theirs': 4622, 'inanimate': 2282, 'pedestrian': 3309, 'ensue': 1487, 'instigate': 2361, 'dieting': 1214, 'defriende': 1134, 'devastate': 1193, 'artificially': 251, 'xanax': 5166, 'friendship': 1824, 'habitual': 2026, 'wh': 5063, 'initiation': 2333, 'beast': 396, 'sabotage': 3914, 'administrator': 63, 'ssr': 4334, 'excruciate': 1570, 'physics': 3361, 'midterm': 2877}\n"
     ]
    }
   ],
   "source": [
    "v = TfidfVectorizer()\n",
    "\n",
    "X_train_cv = v.fit_transform(X_train)\n",
    "X_test_cv = v.transform(X_test)\n",
    "\n",
    "# All TfidfVectorizer vocabularies\n",
    "print(v.vocabulary_)"
   ]
  },
  {
   "cell_type": "markdown",
   "metadata": {},
   "source": [
    "# Machine Learning Model"
   ]
  },
  {
   "cell_type": "markdown",
   "metadata": {},
   "source": [
    "## 1. Naive Bayes"
   ]
  },
  {
   "cell_type": "code",
   "execution_count": 19,
   "metadata": {},
   "outputs": [
    {
     "data": {
      "text/html": [
       "<style>#sk-container-id-1 {color: black;}#sk-container-id-1 pre{padding: 0;}#sk-container-id-1 div.sk-toggleable {background-color: white;}#sk-container-id-1 label.sk-toggleable__label {cursor: pointer;display: block;width: 100%;margin-bottom: 0;padding: 0.3em;box-sizing: border-box;text-align: center;}#sk-container-id-1 label.sk-toggleable__label-arrow:before {content: \"▸\";float: left;margin-right: 0.25em;color: #696969;}#sk-container-id-1 label.sk-toggleable__label-arrow:hover:before {color: black;}#sk-container-id-1 div.sk-estimator:hover label.sk-toggleable__label-arrow:before {color: black;}#sk-container-id-1 div.sk-toggleable__content {max-height: 0;max-width: 0;overflow: hidden;text-align: left;background-color: #f0f8ff;}#sk-container-id-1 div.sk-toggleable__content pre {margin: 0.2em;color: black;border-radius: 0.25em;background-color: #f0f8ff;}#sk-container-id-1 input.sk-toggleable__control:checked~div.sk-toggleable__content {max-height: 200px;max-width: 100%;overflow: auto;}#sk-container-id-1 input.sk-toggleable__control:checked~label.sk-toggleable__label-arrow:before {content: \"▾\";}#sk-container-id-1 div.sk-estimator input.sk-toggleable__control:checked~label.sk-toggleable__label {background-color: #d4ebff;}#sk-container-id-1 div.sk-label input.sk-toggleable__control:checked~label.sk-toggleable__label {background-color: #d4ebff;}#sk-container-id-1 input.sk-hidden--visually {border: 0;clip: rect(1px 1px 1px 1px);clip: rect(1px, 1px, 1px, 1px);height: 1px;margin: -1px;overflow: hidden;padding: 0;position: absolute;width: 1px;}#sk-container-id-1 div.sk-estimator {font-family: monospace;background-color: #f0f8ff;border: 1px dotted black;border-radius: 0.25em;box-sizing: border-box;margin-bottom: 0.5em;}#sk-container-id-1 div.sk-estimator:hover {background-color: #d4ebff;}#sk-container-id-1 div.sk-parallel-item::after {content: \"\";width: 100%;border-bottom: 1px solid gray;flex-grow: 1;}#sk-container-id-1 div.sk-label:hover label.sk-toggleable__label {background-color: #d4ebff;}#sk-container-id-1 div.sk-serial::before {content: \"\";position: absolute;border-left: 1px solid gray;box-sizing: border-box;top: 0;bottom: 0;left: 50%;z-index: 0;}#sk-container-id-1 div.sk-serial {display: flex;flex-direction: column;align-items: center;background-color: white;padding-right: 0.2em;padding-left: 0.2em;position: relative;}#sk-container-id-1 div.sk-item {position: relative;z-index: 1;}#sk-container-id-1 div.sk-parallel {display: flex;align-items: stretch;justify-content: center;background-color: white;position: relative;}#sk-container-id-1 div.sk-item::before, #sk-container-id-1 div.sk-parallel-item::before {content: \"\";position: absolute;border-left: 1px solid gray;box-sizing: border-box;top: 0;bottom: 0;left: 50%;z-index: -1;}#sk-container-id-1 div.sk-parallel-item {display: flex;flex-direction: column;z-index: 1;position: relative;background-color: white;}#sk-container-id-1 div.sk-parallel-item:first-child::after {align-self: flex-end;width: 50%;}#sk-container-id-1 div.sk-parallel-item:last-child::after {align-self: flex-start;width: 50%;}#sk-container-id-1 div.sk-parallel-item:only-child::after {width: 0;}#sk-container-id-1 div.sk-dashed-wrapped {border: 1px dashed gray;margin: 0 0.4em 0.5em 0.4em;box-sizing: border-box;padding-bottom: 0.4em;background-color: white;}#sk-container-id-1 div.sk-label label {font-family: monospace;font-weight: bold;display: inline-block;line-height: 1.2em;}#sk-container-id-1 div.sk-label-container {text-align: center;}#sk-container-id-1 div.sk-container {/* jupyter's `normalize.less` sets `[hidden] { display: none; }` but bootstrap.min.css set `[hidden] { display: none !important; }` so we also need the `!important` here to be able to override the default hidden behavior on the sphinx rendered scikit-learn.org. See: https://github.com/scikit-learn/scikit-learn/issues/21755 */display: inline-block !important;position: relative;}#sk-container-id-1 div.sk-text-repr-fallback {display: none;}</style><div id=\"sk-container-id-1\" class=\"sk-top-container\"><div class=\"sk-text-repr-fallback\"><pre>MultinomialNB()</pre><b>In a Jupyter environment, please rerun this cell to show the HTML representation or trust the notebook. <br />On GitHub, the HTML representation is unable to render, please try loading this page with nbviewer.org.</b></div><div class=\"sk-container\" hidden><div class=\"sk-item\"><div class=\"sk-estimator sk-toggleable\"><input class=\"sk-toggleable__control sk-hidden--visually\" id=\"sk-estimator-id-1\" type=\"checkbox\" checked><label for=\"sk-estimator-id-1\" class=\"sk-toggleable__label sk-toggleable__label-arrow\">MultinomialNB</label><div class=\"sk-toggleable__content\"><pre>MultinomialNB()</pre></div></div></div></div></div>"
      ],
      "text/plain": [
       "MultinomialNB()"
      ]
     },
     "execution_count": 19,
     "metadata": {},
     "output_type": "execute_result"
    }
   ],
   "source": [
    "NB_model = MultinomialNB()\n",
    "\n",
    "# Model training\n",
    "NB_model.fit(X_train_cv, y_train)"
   ]
  },
  {
   "cell_type": "code",
   "execution_count": 20,
   "metadata": {},
   "outputs": [],
   "source": [
    "# Get prediction\n",
    "y_pred = NB_model.predict(X_test_cv)"
   ]
  },
  {
   "cell_type": "code",
   "execution_count": 21,
   "metadata": {},
   "outputs": [
    {
     "name": "stdout",
     "output_type": "stream",
     "text": [
      "0.895578947368421\n"
     ]
    }
   ],
   "source": [
    "# Print accuracy score\n",
    "print(accuracy_score(y_test, y_pred))"
   ]
  },
  {
   "cell_type": "code",
   "execution_count": 23,
   "metadata": {},
   "outputs": [
    {
     "name": "stdout",
     "output_type": "stream",
     "text": [
      "              precision    recall  f1-score   support\n",
      "\n",
      "\n",
      "\n",
      "           0       0.90      0.89      0.89       400\n",
      "\n",
      "           1       0.91      0.90      0.91       388\n",
      "\n",
      "           2       0.90      0.92      0.91       400\n",
      "\n",
      "\n",
      "\n",
      "    accuracy                           0.90      1188\n",
      "\n",
      "   macro avg       0.90      0.90      0.90      1188\n",
      "\n",
      "weighted avg       0.90      0.90      0.90      1188\n",
      "\n",
      "\n"
     ]
    }
   ],
   "source": [
    "# Print classification report\n",
    "print(classification_report(y_test, y_pred))"
   ]
  },
  {
   "cell_type": "markdown",
   "metadata": {},
   "source": [
    "## 2. Random Forest"
   ]
  },
  {
   "cell_type": "code",
   "execution_count": 22,
   "metadata": {},
   "outputs": [
    {
     "data": {
      "text/html": [
       "<style>#sk-container-id-2 {color: black;}#sk-container-id-2 pre{padding: 0;}#sk-container-id-2 div.sk-toggleable {background-color: white;}#sk-container-id-2 label.sk-toggleable__label {cursor: pointer;display: block;width: 100%;margin-bottom: 0;padding: 0.3em;box-sizing: border-box;text-align: center;}#sk-container-id-2 label.sk-toggleable__label-arrow:before {content: \"▸\";float: left;margin-right: 0.25em;color: #696969;}#sk-container-id-2 label.sk-toggleable__label-arrow:hover:before {color: black;}#sk-container-id-2 div.sk-estimator:hover label.sk-toggleable__label-arrow:before {color: black;}#sk-container-id-2 div.sk-toggleable__content {max-height: 0;max-width: 0;overflow: hidden;text-align: left;background-color: #f0f8ff;}#sk-container-id-2 div.sk-toggleable__content pre {margin: 0.2em;color: black;border-radius: 0.25em;background-color: #f0f8ff;}#sk-container-id-2 input.sk-toggleable__control:checked~div.sk-toggleable__content {max-height: 200px;max-width: 100%;overflow: auto;}#sk-container-id-2 input.sk-toggleable__control:checked~label.sk-toggleable__label-arrow:before {content: \"▾\";}#sk-container-id-2 div.sk-estimator input.sk-toggleable__control:checked~label.sk-toggleable__label {background-color: #d4ebff;}#sk-container-id-2 div.sk-label input.sk-toggleable__control:checked~label.sk-toggleable__label {background-color: #d4ebff;}#sk-container-id-2 input.sk-hidden--visually {border: 0;clip: rect(1px 1px 1px 1px);clip: rect(1px, 1px, 1px, 1px);height: 1px;margin: -1px;overflow: hidden;padding: 0;position: absolute;width: 1px;}#sk-container-id-2 div.sk-estimator {font-family: monospace;background-color: #f0f8ff;border: 1px dotted black;border-radius: 0.25em;box-sizing: border-box;margin-bottom: 0.5em;}#sk-container-id-2 div.sk-estimator:hover {background-color: #d4ebff;}#sk-container-id-2 div.sk-parallel-item::after {content: \"\";width: 100%;border-bottom: 1px solid gray;flex-grow: 1;}#sk-container-id-2 div.sk-label:hover label.sk-toggleable__label {background-color: #d4ebff;}#sk-container-id-2 div.sk-serial::before {content: \"\";position: absolute;border-left: 1px solid gray;box-sizing: border-box;top: 0;bottom: 0;left: 50%;z-index: 0;}#sk-container-id-2 div.sk-serial {display: flex;flex-direction: column;align-items: center;background-color: white;padding-right: 0.2em;padding-left: 0.2em;position: relative;}#sk-container-id-2 div.sk-item {position: relative;z-index: 1;}#sk-container-id-2 div.sk-parallel {display: flex;align-items: stretch;justify-content: center;background-color: white;position: relative;}#sk-container-id-2 div.sk-item::before, #sk-container-id-2 div.sk-parallel-item::before {content: \"\";position: absolute;border-left: 1px solid gray;box-sizing: border-box;top: 0;bottom: 0;left: 50%;z-index: -1;}#sk-container-id-2 div.sk-parallel-item {display: flex;flex-direction: column;z-index: 1;position: relative;background-color: white;}#sk-container-id-2 div.sk-parallel-item:first-child::after {align-self: flex-end;width: 50%;}#sk-container-id-2 div.sk-parallel-item:last-child::after {align-self: flex-start;width: 50%;}#sk-container-id-2 div.sk-parallel-item:only-child::after {width: 0;}#sk-container-id-2 div.sk-dashed-wrapped {border: 1px dashed gray;margin: 0 0.4em 0.5em 0.4em;box-sizing: border-box;padding-bottom: 0.4em;background-color: white;}#sk-container-id-2 div.sk-label label {font-family: monospace;font-weight: bold;display: inline-block;line-height: 1.2em;}#sk-container-id-2 div.sk-label-container {text-align: center;}#sk-container-id-2 div.sk-container {/* jupyter's `normalize.less` sets `[hidden] { display: none; }` but bootstrap.min.css set `[hidden] { display: none !important; }` so we also need the `!important` here to be able to override the default hidden behavior on the sphinx rendered scikit-learn.org. See: https://github.com/scikit-learn/scikit-learn/issues/21755 */display: inline-block !important;position: relative;}#sk-container-id-2 div.sk-text-repr-fallback {display: none;}</style><div id=\"sk-container-id-2\" class=\"sk-top-container\"><div class=\"sk-text-repr-fallback\"><pre>RandomForestClassifier()</pre><b>In a Jupyter environment, please rerun this cell to show the HTML representation or trust the notebook. <br />On GitHub, the HTML representation is unable to render, please try loading this page with nbviewer.org.</b></div><div class=\"sk-container\" hidden><div class=\"sk-item\"><div class=\"sk-estimator sk-toggleable\"><input class=\"sk-toggleable__control sk-hidden--visually\" id=\"sk-estimator-id-2\" type=\"checkbox\" checked><label for=\"sk-estimator-id-2\" class=\"sk-toggleable__label sk-toggleable__label-arrow\">RandomForestClassifier</label><div class=\"sk-toggleable__content\"><pre>RandomForestClassifier()</pre></div></div></div></div></div>"
      ],
      "text/plain": [
       "RandomForestClassifier()"
      ]
     },
     "execution_count": 22,
     "metadata": {},
     "output_type": "execute_result"
    }
   ],
   "source": [
    "RFC_model = RandomForestClassifier()\n",
    "\n",
    "RFC_model.fit(X_train_cv, y_train)"
   ]
  },
  {
   "cell_type": "code",
   "execution_count": 23,
   "metadata": {},
   "outputs": [],
   "source": [
    "# Get the predictions for X_test and store it in y_pred\n",
    "y_pred = RFC_model.predict(X_test_cv)"
   ]
  },
  {
   "cell_type": "code",
   "execution_count": 24,
   "metadata": {},
   "outputs": [
    {
     "name": "stdout",
     "output_type": "stream",
     "text": [
      "0.9258947368421052\n"
     ]
    }
   ],
   "source": [
    "# Print Accuracy\n",
    "print(accuracy_score(y_test, y_pred))"
   ]
  },
  {
   "cell_type": "code",
   "execution_count": 27,
   "metadata": {},
   "outputs": [
    {
     "name": "stdout",
     "output_type": "stream",
     "text": [
      "              precision    recall  f1-score   support\n",
      "\n",
      "\n",
      "\n",
      "           0       0.92      0.95      0.93       400\n",
      "\n",
      "           1       0.92      0.93      0.92       388\n",
      "\n",
      "           2       0.94      0.90      0.92       400\n",
      "\n",
      "\n",
      "\n",
      "    accuracy                           0.93      1188\n",
      "\n",
      "   macro avg       0.93      0.93      0.93      1188\n",
      "\n",
      "weighted avg       0.93      0.93      0.93      1188\n",
      "\n",
      "\n"
     ]
    }
   ],
   "source": [
    "# Print the classfication report\n",
    "print(classification_report(y_test, y_pred))"
   ]
  },
  {
   "cell_type": "markdown",
   "metadata": {},
   "source": [
    "# Test Model"
   ]
  },
  {
   "cell_type": "markdown",
   "metadata": {},
   "source": [
    "## Get text"
   ]
  },
  {
   "cell_type": "code",
   "execution_count": 25,
   "metadata": {},
   "outputs": [
    {
     "data": {
      "text/plain": [
       "'i feel hateful to have given up my friendship with that woman and a couple of others for the same reasons to admit defeat and let my husband make me feel so insecure that i feel the need to avoid her cut her out of my life so that my securities is not challenged'"
      ]
     },
     "execution_count": 25,
     "metadata": {},
     "output_type": "execute_result"
    }
   ],
   "source": [
    "test_text = df['Comment'][2075]\n",
    "test_text"
   ]
  },
  {
   "cell_type": "markdown",
   "metadata": {},
   "source": [
    "## Apply preprocess"
   ]
  },
  {
   "cell_type": "code",
   "execution_count": 26,
   "metadata": {},
   "outputs": [
    {
     "data": {
      "text/plain": [
       "['feel hateful give friendship woman couple reason admit defeat let husband feel insecure feel need avoid cut life security challenge']"
      ]
     },
     "execution_count": 26,
     "metadata": {},
     "output_type": "execute_result"
    }
   ],
   "source": [
    "test_text_processed = [preprocess(test_text)]\n",
    "test_text_processed"
   ]
  },
  {
   "cell_type": "markdown",
   "metadata": {},
   "source": [
    "## Convert to vector"
   ]
  },
  {
   "cell_type": "code",
   "execution_count": 27,
   "metadata": {},
   "outputs": [],
   "source": [
    "test_text_vc = v.transform(test_text_processed)"
   ]
  },
  {
   "cell_type": "markdown",
   "metadata": {},
   "source": [
    "## Get Prediction"
   ]
  },
  {
   "cell_type": "code",
   "execution_count": 28,
   "metadata": {},
   "outputs": [],
   "source": [
    "test_text = RFC_model.predict(test_text_vc)"
   ]
  },
  {
   "cell_type": "markdown",
   "metadata": {},
   "source": [
    "## Output"
   ]
  },
  {
   "cell_type": "code",
   "execution_count": 29,
   "metadata": {},
   "outputs": [
    {
     "name": "stdout",
     "output_type": "stream",
     "text": [
      "anger -> 2\n",
      "[2]\n"
     ]
    }
   ],
   "source": [
    "print(f\"{df['Emotion'][2075]} -> {df['Emotion_num'][2075]}\")\n",
    "print(test_text)"
   ]
  },
  {
   "cell_type": "markdown",
   "metadata": {},
   "source": [
    "## User Input (Terminal Interface)"
   ]
  },
  {
   "cell_type": "code",
   "execution_count": 38,
   "metadata": {},
   "outputs": [
    {
     "name": "stdout",
     "output_type": "stream",
     "text": [
      "Enter a phrase: i feel hateful to have given up my friendship with that woman and a couple of others for the same reasons to admit defeat and let my husband make me feel so insecure that i feel the need to avoid her cut her out of my life so that my securities is not challenged\n",
      "Predicted_Emotion: You are filling Anger\n"
     ]
    }
   ],
   "source": [
    "# Define a function for emotion classification\n",
    "def classify_emotion(model, vectorizer, phrase):\n",
    "    # Preprocess the input phrase\n",
    "    processed_phrase = preprocess(phrase)\n",
    "    \n",
    "    # Convert the processed phrase to a vector\n",
    "    phrase_vector = vectorizer.transform([processed_phrase])\n",
    "    \n",
    "    # Predict the emotion label using the model\n",
    "    predicted_emotion = model.predict(phrase_vector)\n",
    "    \n",
    "    # Return the predicted emotion label\n",
    "    return predicted_emotion[0]\n",
    "\n",
    "# Define a function for emotion classification from user input\n",
    "def classify_emotion_from_user_input(model, vectorizer):\n",
    "    # Prompt the user to enter a phrase\n",
    "    user_input = input(\"Enter a phrase: \")\n",
    "    \n",
    "    # Use the provided function to classify the emotion\n",
    "    predicted_emotion = classify_emotion(model, vectorizer, user_input)\n",
    "    \n",
    "    return predicted_emotion\n",
    "\n",
    "# Example usage:{'joy' : 0, 'fear': 1, 'anger': 2})\n",
    "predicted_emotion = classify_emotion_from_user_input(RFC_model, v)\n",
    "if predicted_emotion == 0:\n",
    "    print(\"Predicted Emotion: You are filling Joy\")\n",
    "    if predicted_emotion == 1:\n",
    "        print(\"Predicted Emotion: You are filling Fear\")\n",
    "else:\n",
    "    print(\"Predicted_Emotion: You are filling Anger\")"
   ]
  },
  {
   "cell_type": "code",
   "execution_count": null,
   "metadata": {},
   "outputs": [],
   "source": []
  }
 ],
 "metadata": {
  "kernelspec": {
   "display_name": "Python 3 (ipykernel)",
   "language": "python",
   "name": "python3"
  },
  "language_info": {
   "codemirror_mode": {
    "name": "ipython",
    "version": 3
   },
   "file_extension": ".py",
   "mimetype": "text/x-python",
   "name": "python",
   "nbconvert_exporter": "python",
   "pygments_lexer": "ipython3",
   "version": "3.8.17"
  }
 },
 "nbformat": 4,
 "nbformat_minor": 4
}
